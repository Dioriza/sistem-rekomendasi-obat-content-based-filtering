{
  "nbformat": 4,
  "nbformat_minor": 0,
  "metadata": {
    "colab": {
      "name": "Sistem Rekomendasi Obat Content Based SKLearn.ipynb",
      "provenance": []
    },
    "kernelspec": {
      "name": "python3",
      "display_name": "Python 3"
    },
    "language_info": {
      "name": "python"
    }
  },
  "cells": [
    {
      "cell_type": "markdown",
      "metadata": {
        "id": "8_dK3rHshmcm"
      },
      "source": [
        "**Muhamad Dio Riza Pratama**\n",
        "\n",
        "**Universitas Buana Perjuangan**\n",
        "\n",
        "**Dicoding Indonesia - Kampus Merdeka**"
      ]
    },
    {
      "cell_type": "markdown",
      "metadata": {
        "id": "vYxhyCaYiKKI"
      },
      "source": [
        "# Import Library"
      ]
    },
    {
      "cell_type": "code",
      "metadata": {
        "colab": {
          "base_uri": "https://localhost:8080/"
        },
        "id": "Fi6lQXyAxQwE",
        "outputId": "d7e8ace0-8893-4637-e2ca-d6d8d4655786"
      },
      "source": [
        "pip install emoji\n"
      ],
      "execution_count": null,
      "outputs": [
        {
          "output_type": "stream",
          "name": "stdout",
          "text": [
            "Collecting emoji\n",
            "  Downloading emoji-1.6.1.tar.gz (170 kB)\n",
            "\u001b[?25l\r\u001b[K     |██                              | 10 kB 21.5 MB/s eta 0:00:01\r\u001b[K     |███▉                            | 20 kB 26.9 MB/s eta 0:00:01\r\u001b[K     |█████▉                          | 30 kB 29.4 MB/s eta 0:00:01\r\u001b[K     |███████▊                        | 40 kB 32.1 MB/s eta 0:00:01\r\u001b[K     |█████████▋                      | 51 kB 33.1 MB/s eta 0:00:01\r\u001b[K     |███████████▋                    | 61 kB 32.3 MB/s eta 0:00:01\r\u001b[K     |█████████████▌                  | 71 kB 27.2 MB/s eta 0:00:01\r\u001b[K     |███████████████▍                | 81 kB 27.6 MB/s eta 0:00:01\r\u001b[K     |█████████████████▍              | 92 kB 29.3 MB/s eta 0:00:01\r\u001b[K     |███████████████████▎            | 102 kB 29.2 MB/s eta 0:00:01\r\u001b[K     |█████████████████████▏          | 112 kB 29.2 MB/s eta 0:00:01\r\u001b[K     |███████████████████████▏        | 122 kB 29.2 MB/s eta 0:00:01\r\u001b[K     |█████████████████████████       | 133 kB 29.2 MB/s eta 0:00:01\r\u001b[K     |███████████████████████████     | 143 kB 29.2 MB/s eta 0:00:01\r\u001b[K     |█████████████████████████████   | 153 kB 29.2 MB/s eta 0:00:01\r\u001b[K     |██████████████████████████████▉ | 163 kB 29.2 MB/s eta 0:00:01\r\u001b[K     |████████████████████████████████| 170 kB 29.2 MB/s \n",
            "\u001b[?25hBuilding wheels for collected packages: emoji\n",
            "  Building wheel for emoji (setup.py) ... \u001b[?25l\u001b[?25hdone\n",
            "  Created wheel for emoji: filename=emoji-1.6.1-py3-none-any.whl size=169314 sha256=0ea2e4954bed500f30c6b551d0889c3f7065597ded994722ad94f0f1bdef6c64\n",
            "  Stored in directory: /root/.cache/pip/wheels/ea/5f/d3/03d313ddb3c2a1a427bb4690f1621eea60fe6f2a30cc95940f\n",
            "Successfully built emoji\n",
            "Installing collected packages: emoji\n",
            "Successfully installed emoji-1.6.1\n"
          ]
        }
      ]
    },
    {
      "cell_type": "code",
      "metadata": {
        "colab": {
          "base_uri": "https://localhost:8080/"
        },
        "id": "mfIBho7pvp2i",
        "outputId": "91c11aff-a445-4b4c-c037-ae20716c325b"
      },
      "source": [
        "pip install jcopml"
      ],
      "execution_count": null,
      "outputs": [
        {
          "output_type": "stream",
          "name": "stdout",
          "text": [
            "Collecting jcopml\n",
            "  Downloading jcopml-1.1.14.tar.gz (21 kB)\n",
            "Requirement already satisfied: numpy in /usr/local/lib/python3.7/dist-packages (from jcopml) (1.19.5)\n",
            "Requirement already satisfied: scipy in /usr/local/lib/python3.7/dist-packages (from jcopml) (1.4.1)\n",
            "Requirement already satisfied: pandas in /usr/local/lib/python3.7/dist-packages (from jcopml) (1.1.5)\n",
            "Requirement already satisfied: scikit-learn in /usr/local/lib/python3.7/dist-packages (from jcopml) (0.22.2.post1)\n",
            "Requirement already satisfied: matplotlib in /usr/local/lib/python3.7/dist-packages (from jcopml) (3.2.2)\n",
            "Requirement already satisfied: seaborn in /usr/local/lib/python3.7/dist-packages (from jcopml) (0.11.2)\n",
            "Collecting scikit-optimize\n",
            "  Downloading scikit_optimize-0.9.0-py2.py3-none-any.whl (100 kB)\n",
            "\u001b[K     |████████████████████████████████| 100 kB 8.8 MB/s \n",
            "\u001b[?25hRequirement already satisfied: ipywidgets in /usr/local/lib/python3.7/dist-packages (from jcopml) (7.6.5)\n",
            "Requirement already satisfied: statsmodels in /usr/local/lib/python3.7/dist-packages (from jcopml) (0.10.2)\n",
            "Requirement already satisfied: jupyterlab-widgets>=1.0.0 in /usr/local/lib/python3.7/dist-packages (from ipywidgets->jcopml) (1.0.2)\n",
            "Requirement already satisfied: traitlets>=4.3.1 in /usr/local/lib/python3.7/dist-packages (from ipywidgets->jcopml) (5.1.0)\n",
            "Requirement already satisfied: ipykernel>=4.5.1 in /usr/local/lib/python3.7/dist-packages (from ipywidgets->jcopml) (4.10.1)\n",
            "Requirement already satisfied: nbformat>=4.2.0 in /usr/local/lib/python3.7/dist-packages (from ipywidgets->jcopml) (5.1.3)\n",
            "Requirement already satisfied: ipython>=4.0.0 in /usr/local/lib/python3.7/dist-packages (from ipywidgets->jcopml) (5.5.0)\n",
            "Requirement already satisfied: widgetsnbextension~=3.5.0 in /usr/local/lib/python3.7/dist-packages (from ipywidgets->jcopml) (3.5.1)\n",
            "Requirement already satisfied: ipython-genutils~=0.2.0 in /usr/local/lib/python3.7/dist-packages (from ipywidgets->jcopml) (0.2.0)\n",
            "Requirement already satisfied: tornado>=4.0 in /usr/local/lib/python3.7/dist-packages (from ipykernel>=4.5.1->ipywidgets->jcopml) (5.1.1)\n",
            "Requirement already satisfied: jupyter-client in /usr/local/lib/python3.7/dist-packages (from ipykernel>=4.5.1->ipywidgets->jcopml) (5.3.5)\n",
            "Requirement already satisfied: pygments in /usr/local/lib/python3.7/dist-packages (from ipython>=4.0.0->ipywidgets->jcopml) (2.6.1)\n",
            "Requirement already satisfied: decorator in /usr/local/lib/python3.7/dist-packages (from ipython>=4.0.0->ipywidgets->jcopml) (4.4.2)\n",
            "Requirement already satisfied: prompt-toolkit<2.0.0,>=1.0.4 in /usr/local/lib/python3.7/dist-packages (from ipython>=4.0.0->ipywidgets->jcopml) (1.0.18)\n",
            "Requirement already satisfied: setuptools>=18.5 in /usr/local/lib/python3.7/dist-packages (from ipython>=4.0.0->ipywidgets->jcopml) (57.4.0)\n",
            "Requirement already satisfied: pickleshare in /usr/local/lib/python3.7/dist-packages (from ipython>=4.0.0->ipywidgets->jcopml) (0.7.5)\n",
            "Requirement already satisfied: simplegeneric>0.8 in /usr/local/lib/python3.7/dist-packages (from ipython>=4.0.0->ipywidgets->jcopml) (0.8.1)\n",
            "Requirement already satisfied: pexpect in /usr/local/lib/python3.7/dist-packages (from ipython>=4.0.0->ipywidgets->jcopml) (4.8.0)\n",
            "Requirement already satisfied: jsonschema!=2.5.0,>=2.4 in /usr/local/lib/python3.7/dist-packages (from nbformat>=4.2.0->ipywidgets->jcopml) (2.6.0)\n",
            "Requirement already satisfied: jupyter-core in /usr/local/lib/python3.7/dist-packages (from nbformat>=4.2.0->ipywidgets->jcopml) (4.8.1)\n",
            "Requirement already satisfied: wcwidth in /usr/local/lib/python3.7/dist-packages (from prompt-toolkit<2.0.0,>=1.0.4->ipython>=4.0.0->ipywidgets->jcopml) (0.2.5)\n",
            "Requirement already satisfied: six>=1.9.0 in /usr/local/lib/python3.7/dist-packages (from prompt-toolkit<2.0.0,>=1.0.4->ipython>=4.0.0->ipywidgets->jcopml) (1.15.0)\n",
            "Requirement already satisfied: notebook>=4.4.1 in /usr/local/lib/python3.7/dist-packages (from widgetsnbextension~=3.5.0->ipywidgets->jcopml) (5.3.1)\n",
            "Requirement already satisfied: terminado>=0.8.1 in /usr/local/lib/python3.7/dist-packages (from notebook>=4.4.1->widgetsnbextension~=3.5.0->ipywidgets->jcopml) (0.12.1)\n",
            "Requirement already satisfied: nbconvert in /usr/local/lib/python3.7/dist-packages (from notebook>=4.4.1->widgetsnbextension~=3.5.0->ipywidgets->jcopml) (5.6.1)\n",
            "Requirement already satisfied: Send2Trash in /usr/local/lib/python3.7/dist-packages (from notebook>=4.4.1->widgetsnbextension~=3.5.0->ipywidgets->jcopml) (1.8.0)\n",
            "Requirement already satisfied: jinja2 in /usr/local/lib/python3.7/dist-packages (from notebook>=4.4.1->widgetsnbextension~=3.5.0->ipywidgets->jcopml) (2.11.3)\n",
            "Requirement already satisfied: python-dateutil>=2.1 in /usr/local/lib/python3.7/dist-packages (from jupyter-client->ipykernel>=4.5.1->ipywidgets->jcopml) (2.8.2)\n",
            "Requirement already satisfied: pyzmq>=13 in /usr/local/lib/python3.7/dist-packages (from jupyter-client->ipykernel>=4.5.1->ipywidgets->jcopml) (22.3.0)\n",
            "Requirement already satisfied: ptyprocess in /usr/local/lib/python3.7/dist-packages (from terminado>=0.8.1->notebook>=4.4.1->widgetsnbextension~=3.5.0->ipywidgets->jcopml) (0.7.0)\n",
            "Requirement already satisfied: MarkupSafe>=0.23 in /usr/local/lib/python3.7/dist-packages (from jinja2->notebook>=4.4.1->widgetsnbextension~=3.5.0->ipywidgets->jcopml) (2.0.1)\n",
            "Requirement already satisfied: cycler>=0.10 in /usr/local/lib/python3.7/dist-packages (from matplotlib->jcopml) (0.10.0)\n",
            "Requirement already satisfied: kiwisolver>=1.0.1 in /usr/local/lib/python3.7/dist-packages (from matplotlib->jcopml) (1.3.2)\n",
            "Requirement already satisfied: pyparsing!=2.0.4,!=2.1.2,!=2.1.6,>=2.0.1 in /usr/local/lib/python3.7/dist-packages (from matplotlib->jcopml) (2.4.7)\n",
            "Requirement already satisfied: mistune<2,>=0.8.1 in /usr/local/lib/python3.7/dist-packages (from nbconvert->notebook>=4.4.1->widgetsnbextension~=3.5.0->ipywidgets->jcopml) (0.8.4)\n",
            "Requirement already satisfied: testpath in /usr/local/lib/python3.7/dist-packages (from nbconvert->notebook>=4.4.1->widgetsnbextension~=3.5.0->ipywidgets->jcopml) (0.5.0)\n",
            "Requirement already satisfied: entrypoints>=0.2.2 in /usr/local/lib/python3.7/dist-packages (from nbconvert->notebook>=4.4.1->widgetsnbextension~=3.5.0->ipywidgets->jcopml) (0.3)\n",
            "Requirement already satisfied: defusedxml in /usr/local/lib/python3.7/dist-packages (from nbconvert->notebook>=4.4.1->widgetsnbextension~=3.5.0->ipywidgets->jcopml) (0.7.1)\n",
            "Requirement already satisfied: bleach in /usr/local/lib/python3.7/dist-packages (from nbconvert->notebook>=4.4.1->widgetsnbextension~=3.5.0->ipywidgets->jcopml) (4.1.0)\n",
            "Requirement already satisfied: pandocfilters>=1.4.1 in /usr/local/lib/python3.7/dist-packages (from nbconvert->notebook>=4.4.1->widgetsnbextension~=3.5.0->ipywidgets->jcopml) (1.5.0)\n",
            "Requirement already satisfied: webencodings in /usr/local/lib/python3.7/dist-packages (from bleach->nbconvert->notebook>=4.4.1->widgetsnbextension~=3.5.0->ipywidgets->jcopml) (0.5.1)\n",
            "Requirement already satisfied: packaging in /usr/local/lib/python3.7/dist-packages (from bleach->nbconvert->notebook>=4.4.1->widgetsnbextension~=3.5.0->ipywidgets->jcopml) (21.0)\n",
            "Requirement already satisfied: pytz>=2017.2 in /usr/local/lib/python3.7/dist-packages (from pandas->jcopml) (2018.9)\n",
            "Requirement already satisfied: joblib>=0.11 in /usr/local/lib/python3.7/dist-packages (from scikit-learn->jcopml) (1.0.1)\n",
            "Collecting pyaml>=16.9\n",
            "  Downloading pyaml-21.10.1-py2.py3-none-any.whl (24 kB)\n",
            "Requirement already satisfied: PyYAML in /usr/local/lib/python3.7/dist-packages (from pyaml>=16.9->scikit-optimize->jcopml) (3.13)\n",
            "Requirement already satisfied: patsy>=0.4.0 in /usr/local/lib/python3.7/dist-packages (from statsmodels->jcopml) (0.5.2)\n",
            "Building wheels for collected packages: jcopml\n",
            "  Building wheel for jcopml (setup.py) ... \u001b[?25l\u001b[?25hdone\n",
            "  Created wheel for jcopml: filename=jcopml-1.1.14-py2.py3-none-any.whl size=33655 sha256=55d15a9589e8c22d6474989ccf4142bff52183aa93453e16caab6e2352a00d4a\n",
            "  Stored in directory: /root/.cache/pip/wheels/d9/6a/86/9a622c06f65732afe0e31c02a92fae6ab663ffd7162bcf5125\n",
            "Successfully built jcopml\n",
            "Installing collected packages: pyaml, scikit-optimize, jcopml\n",
            "Successfully installed jcopml-1.1.14 pyaml-21.10.1 scikit-optimize-0.9.0\n"
          ]
        }
      ]
    },
    {
      "cell_type": "code",
      "metadata": {
        "colab": {
          "base_uri": "https://localhost:8080/"
        },
        "id": "ldkYznhliOr6",
        "outputId": "4451f2e4-27a0-464e-b1fe-94a7719a9df2"
      },
      "source": [
        "import numpy as np\n",
        "import pandas as pd\n",
        "import zipfile\n",
        "import seaborn as sns\n",
        "import re\n",
        "\n",
        "import matplotlib.pyplot as plt\n",
        "%matplotlib inline\n",
        "import warnings\n",
        "warnings.filterwarnings('ignore')\n",
        "\n",
        "from jcopml.plot import plot_missing_value\n",
        "from sklearn.feature_extraction.text import CountVectorizer, TfidfVectorizer\n",
        "from sklearn.metrics.pairwise import cosine_distances\n",
        "from sklearn.metrics.pairwise import cosine_similarity\n",
        "\n",
        "from nltk.tokenize import word_tokenize\n",
        "import nltk\n",
        "nltk.download('punkt')\n",
        "import emoji  "
      ],
      "execution_count": null,
      "outputs": [
        {
          "output_type": "stream",
          "name": "stdout",
          "text": [
            "[nltk_data] Downloading package punkt to /root/nltk_data...\n",
            "[nltk_data]   Package punkt is already up-to-date!\n"
          ]
        }
      ]
    },
    {
      "cell_type": "markdown",
      "metadata": {
        "id": "LXKdXDGHiIbi"
      },
      "source": [
        "# Get Dataset"
      ]
    },
    {
      "cell_type": "markdown",
      "metadata": {
        "id": "hxTPyAZXkmO4"
      },
      "source": [
        "Dataset dipilih melalui platform kaggle, Kaggle adalah komunitas online yang dibangun oleh Goldbloom di tahun 2010. Komunitas ini mengumpulkan para ahli ataupun minat dalam dunia data science yang ingin belajar lebih dalam terkait machine learning ataupun ilmu terkait lainnya. Kaggle telah memiliki lebih dari 1000 dataset, 170.000 post di forum, dan 300 kernel. Oleh karena itu, Kaggle dianggap sebagai platform yang luar biasa hingga diakuisisi Google pada tahun 2017. Kaggle juga platform yang menyediakan open source dataset dan notebook data sains. Berisi komunitas dari penggiat data dari seluruh dunia yang mana berisi aktivitas sharing data, kompetisi data dan pembelajaran data di platform ini."
      ]
    },
    {
      "cell_type": "code",
      "metadata": {
        "colab": {
          "resources": {
            "http://localhost:8080/nbextensions/google.colab/files.js": {
              "data": "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",
              "ok": true,
              "headers": [
                [
                  "content-type",
                  "application/javascript"
                ]
              ],
              "status": 200,
              "status_text": ""
            }
          },
          "base_uri": "https://localhost:8080/",
          "height": 89
        },
        "id": "-Qcj9KLthlSh",
        "outputId": "9828a450-0d28-48e4-d970-b59d6a4bb07d"
      },
      "source": [
        "from google.colab import files\n",
        "files.upload()"
      ],
      "execution_count": null,
      "outputs": [
        {
          "output_type": "display_data",
          "data": {
            "text/html": [
              "\n",
              "     <input type=\"file\" id=\"files-f99bb714-5b13-48e4-9b0d-a6cbd37b3f5c\" name=\"files[]\" multiple disabled\n",
              "        style=\"border:none\" />\n",
              "     <output id=\"result-f99bb714-5b13-48e4-9b0d-a6cbd37b3f5c\">\n",
              "      Upload widget is only available when the cell has been executed in the\n",
              "      current browser session. Please rerun this cell to enable.\n",
              "      </output>\n",
              "      <script src=\"/nbextensions/google.colab/files.js\"></script> "
            ],
            "text/plain": [
              "<IPython.core.display.HTML object>"
            ]
          },
          "metadata": {}
        },
        {
          "output_type": "stream",
          "name": "stdout",
          "text": [
            "Saving kaggle.json to kaggle.json\n"
          ]
        },
        {
          "output_type": "execute_result",
          "data": {
            "text/plain": [
              "{'kaggle.json': b'{\"username\":\"muhammaddioriza\",\"key\":\"9659fcadd4165a4b3a9c1a4820340a31\"}'}"
            ]
          },
          "metadata": {},
          "execution_count": 4
        }
      ]
    },
    {
      "cell_type": "code",
      "metadata": {
        "id": "e1WmApkNhrmW"
      },
      "source": [
        "!mkdir -p ~/.kaggle\n",
        "!cp kaggle.json ~/.kaggle/"
      ],
      "execution_count": null,
      "outputs": []
    },
    {
      "cell_type": "code",
      "metadata": {
        "id": "Lk5pMLEKhv3z"
      },
      "source": [
        "!pip install -q kaggle"
      ],
      "execution_count": null,
      "outputs": []
    },
    {
      "cell_type": "code",
      "metadata": {
        "id": "xMTvKME-hxTX"
      },
      "source": [
        "!chmod 600 /root/.kaggle/kaggle.json"
      ],
      "execution_count": null,
      "outputs": []
    },
    {
      "cell_type": "code",
      "metadata": {
        "colab": {
          "base_uri": "https://localhost:8080/"
        },
        "id": "s1m6ahG-hybT",
        "outputId": "f92aee32-608e-4680-e283-49481b19b65b"
      },
      "source": [
        "!kaggle datasets download -d subhajournal/drug-recommendations"
      ],
      "execution_count": null,
      "outputs": [
        {
          "output_type": "stream",
          "name": "stdout",
          "text": [
            "Downloading drug-recommendations.zip to /content\n",
            " 91% 9.00M/9.88M [00:00<00:00, 37.1MB/s]\n",
            "100% 9.88M/9.88M [00:00<00:00, 33.0MB/s]\n"
          ]
        }
      ]
    },
    {
      "cell_type": "code",
      "metadata": {
        "id": "kzziFIDOh7QB"
      },
      "source": [
        "local_zip = '/content/drug-recommendations.zip'\n",
        "zip_ref = zipfile.ZipFile(local_zip, 'r')\n",
        "zip_ref.extractall('/tmp')\n",
        "zip_ref.close()"
      ],
      "execution_count": null,
      "outputs": []
    },
    {
      "cell_type": "markdown",
      "metadata": {
        "id": "mkU2Z8dXib1M"
      },
      "source": [
        "# Import Dataset "
      ]
    },
    {
      "cell_type": "markdown",
      "metadata": {
        "id": "Uqx4yUEdtQZG"
      },
      "source": [
        "Dataset diambil dari Kaggle yang mana berisi data dari Drugs Recomendation yang merupakan data berisi banyak jenis obat, gejala dan ulasan pengguna tentu saja dataset ini sangat berguna untuk rekomendasi obat berdasarkan jenis penyakitnya dan ulasan. Ulasan pengguna akan menjadi faktor yang membantu dalam mengidentifikasi sentimen pengguna berguna untuk meresepkan obat yang sangat cocok untuk penyakit dan gangguan kesehatan tertentu.\n",
        "\n",
        "Dataset terdiri dari beberapa variabel drugName, Prescribed_for, Drug_Review, User_Rating, Date dan Count_of_Reviews. Karena akan dibuat sistem rekomendasi menggunakan content based filtering, maka ada beberapa variabel yang tidak diperlukan. "
      ]
    },
    {
      "cell_type": "code",
      "metadata": {
        "colab": {
          "base_uri": "https://localhost:8080/",
          "height": 204
        },
        "id": "DbmxvcE4h-Gz",
        "outputId": "18d78a65-a725-4da0-f727-383034813dbb"
      },
      "source": [
        "df = pd.read_csv('/tmp/Drug_Data.csv')\n",
        "df = df.drop(columns=['User_Rating', 'Count_of_Reviews', 'Date'])\n",
        "df.head()"
      ],
      "execution_count": null,
      "outputs": [
        {
          "output_type": "execute_result",
          "data": {
            "text/html": [
              "<div>\n",
              "<style scoped>\n",
              "    .dataframe tbody tr th:only-of-type {\n",
              "        vertical-align: middle;\n",
              "    }\n",
              "\n",
              "    .dataframe tbody tr th {\n",
              "        vertical-align: top;\n",
              "    }\n",
              "\n",
              "    .dataframe thead th {\n",
              "        text-align: right;\n",
              "    }\n",
              "</style>\n",
              "<table border=\"1\" class=\"dataframe\">\n",
              "  <thead>\n",
              "    <tr style=\"text-align: right;\">\n",
              "      <th></th>\n",
              "      <th>drugName</th>\n",
              "      <th>Prescribed_for</th>\n",
              "      <th>Drug_Review</th>\n",
              "    </tr>\n",
              "  </thead>\n",
              "  <tbody>\n",
              "    <tr>\n",
              "      <th>0</th>\n",
              "      <td>Mirtazapine</td>\n",
              "      <td>Depression</td>\n",
              "      <td>\"I&amp;#039;ve tried a few antidepressants over th...</td>\n",
              "    </tr>\n",
              "    <tr>\n",
              "      <th>1</th>\n",
              "      <td>Mesalamine</td>\n",
              "      <td>Crohn's Disease, Maintenance</td>\n",
              "      <td>\"My son has Crohn&amp;#039;s disease and has done ...</td>\n",
              "    </tr>\n",
              "    <tr>\n",
              "      <th>2</th>\n",
              "      <td>Bactrim</td>\n",
              "      <td>Urinary Tract Infection</td>\n",
              "      <td>\"Quick reduction of symptoms\"</td>\n",
              "    </tr>\n",
              "    <tr>\n",
              "      <th>3</th>\n",
              "      <td>Contrave</td>\n",
              "      <td>Weight Loss</td>\n",
              "      <td>\"Contrave combines drugs that were used for al...</td>\n",
              "    </tr>\n",
              "    <tr>\n",
              "      <th>4</th>\n",
              "      <td>Cyclafem 1 / 35</td>\n",
              "      <td>Birth Control</td>\n",
              "      <td>\"I have been on this birth control for one cyc...</td>\n",
              "    </tr>\n",
              "  </tbody>\n",
              "</table>\n",
              "</div>"
            ],
            "text/plain": [
              "          drugName  ...                                        Drug_Review\n",
              "0      Mirtazapine  ...  \"I&#039;ve tried a few antidepressants over th...\n",
              "1       Mesalamine  ...  \"My son has Crohn&#039;s disease and has done ...\n",
              "2          Bactrim  ...                      \"Quick reduction of symptoms\"\n",
              "3         Contrave  ...  \"Contrave combines drugs that were used for al...\n",
              "4  Cyclafem 1 / 35  ...  \"I have been on this birth control for one cyc...\n",
              "\n",
              "[5 rows x 3 columns]"
            ]
          },
          "metadata": {},
          "execution_count": 10
        }
      ]
    },
    {
      "cell_type": "markdown",
      "metadata": {
        "id": "g61JU7CgvLny"
      },
      "source": [
        "# Data Preparation & EDA"
      ]
    },
    {
      "cell_type": "markdown",
      "metadata": {
        "id": "-oSVmo8XtU5u"
      },
      "source": [
        "Proses awal pada data preparation disini adalah dengan menggabungkan dua variabel yaitu prescribed_for dan Drug_Review. Tujuannya adalah untuk membuat metadata yang membuat model dapat bekerja lebih baik lagi, karena pada dasarnya model yang akan kita buat content based filtering adalah rekomendasi berdasarkan kemiripan. Percobaan pertama telah dibuat dengan hanya menjadikan Drug_review sebagai data yang diencoding tetapi hasilnya kurang memuaskan. Oleh sebab itu disini kita menggabungkan kedua variabel tersebut dan memanfaatkannya untuk memperkembangkan model menjadi variabel baru bernama metadata."
      ]
    },
    {
      "cell_type": "code",
      "metadata": {
        "colab": {
          "base_uri": "https://localhost:8080/",
          "height": 359
        },
        "id": "O5e5rsygvOuv",
        "outputId": "65cd9edd-6e0e-4281-8822-a94bddb90849"
      },
      "source": [
        "df['metadata'] = df['Prescribed_for'].str.cat(df['Drug_Review'],sep=\" \")\n",
        "df['metadata'] = df['metadata'].apply(str)\n",
        "df = df.drop(columns=['Drug_Review'])\n",
        "df.head(10)"
      ],
      "execution_count": null,
      "outputs": [
        {
          "output_type": "execute_result",
          "data": {
            "text/html": [
              "<div>\n",
              "<style scoped>\n",
              "    .dataframe tbody tr th:only-of-type {\n",
              "        vertical-align: middle;\n",
              "    }\n",
              "\n",
              "    .dataframe tbody tr th {\n",
              "        vertical-align: top;\n",
              "    }\n",
              "\n",
              "    .dataframe thead th {\n",
              "        text-align: right;\n",
              "    }\n",
              "</style>\n",
              "<table border=\"1\" class=\"dataframe\">\n",
              "  <thead>\n",
              "    <tr style=\"text-align: right;\">\n",
              "      <th></th>\n",
              "      <th>drugName</th>\n",
              "      <th>Prescribed_for</th>\n",
              "      <th>metadata</th>\n",
              "    </tr>\n",
              "  </thead>\n",
              "  <tbody>\n",
              "    <tr>\n",
              "      <th>0</th>\n",
              "      <td>Mirtazapine</td>\n",
              "      <td>Depression</td>\n",
              "      <td>Depression \"I&amp;#039;ve tried a few antidepressa...</td>\n",
              "    </tr>\n",
              "    <tr>\n",
              "      <th>1</th>\n",
              "      <td>Mesalamine</td>\n",
              "      <td>Crohn's Disease, Maintenance</td>\n",
              "      <td>Crohn's Disease, Maintenance \"My son has Crohn...</td>\n",
              "    </tr>\n",
              "    <tr>\n",
              "      <th>2</th>\n",
              "      <td>Bactrim</td>\n",
              "      <td>Urinary Tract Infection</td>\n",
              "      <td>Urinary Tract Infection \"Quick reduction of sy...</td>\n",
              "    </tr>\n",
              "    <tr>\n",
              "      <th>3</th>\n",
              "      <td>Contrave</td>\n",
              "      <td>Weight Loss</td>\n",
              "      <td>Weight Loss \"Contrave combines drugs that were...</td>\n",
              "    </tr>\n",
              "    <tr>\n",
              "      <th>4</th>\n",
              "      <td>Cyclafem 1 / 35</td>\n",
              "      <td>Birth Control</td>\n",
              "      <td>Birth Control \"I have been on this birth contr...</td>\n",
              "    </tr>\n",
              "    <tr>\n",
              "      <th>5</th>\n",
              "      <td>Zyclara</td>\n",
              "      <td>Keratosis</td>\n",
              "      <td>Keratosis \"4 days in on first 2 weeks.  Using ...</td>\n",
              "    </tr>\n",
              "    <tr>\n",
              "      <th>6</th>\n",
              "      <td>Copper</td>\n",
              "      <td>Birth Control</td>\n",
              "      <td>Birth Control \"I&amp;#039;ve had the copper coil f...</td>\n",
              "    </tr>\n",
              "    <tr>\n",
              "      <th>7</th>\n",
              "      <td>Amitriptyline</td>\n",
              "      <td>Migraine Prevention</td>\n",
              "      <td>Migraine Prevention \"This has been great for m...</td>\n",
              "    </tr>\n",
              "    <tr>\n",
              "      <th>8</th>\n",
              "      <td>Methadone</td>\n",
              "      <td>Opiate Withdrawal</td>\n",
              "      <td>Opiate Withdrawal \"Ive been on Methadone for o...</td>\n",
              "    </tr>\n",
              "    <tr>\n",
              "      <th>9</th>\n",
              "      <td>Levora</td>\n",
              "      <td>Birth Control</td>\n",
              "      <td>Birth Control \"I was on this pill for almost t...</td>\n",
              "    </tr>\n",
              "  </tbody>\n",
              "</table>\n",
              "</div>"
            ],
            "text/plain": [
              "          drugName  ...                                           metadata\n",
              "0      Mirtazapine  ...  Depression \"I&#039;ve tried a few antidepressa...\n",
              "1       Mesalamine  ...  Crohn's Disease, Maintenance \"My son has Crohn...\n",
              "2          Bactrim  ...  Urinary Tract Infection \"Quick reduction of sy...\n",
              "3         Contrave  ...  Weight Loss \"Contrave combines drugs that were...\n",
              "4  Cyclafem 1 / 35  ...  Birth Control \"I have been on this birth contr...\n",
              "5          Zyclara  ...  Keratosis \"4 days in on first 2 weeks.  Using ...\n",
              "6           Copper  ...  Birth Control \"I&#039;ve had the copper coil f...\n",
              "7    Amitriptyline  ...  Migraine Prevention \"This has been great for m...\n",
              "8        Methadone  ...  Opiate Withdrawal \"Ive been on Methadone for o...\n",
              "9           Levora  ...  Birth Control \"I was on this pill for almost t...\n",
              "\n",
              "[10 rows x 3 columns]"
            ]
          },
          "metadata": {},
          "execution_count": 11
        }
      ]
    },
    {
      "cell_type": "markdown",
      "metadata": {
        "id": "x9Z5Y5rctmBn"
      },
      "source": [
        "Selanjutnya adalah pengecekan jumlah baris yang ada pada dataset dicek dengan menggunakan df.shape dan outputnya adalah (53766, 3)\n"
      ]
    },
    {
      "cell_type": "code",
      "metadata": {
        "colab": {
          "base_uri": "https://localhost:8080/"
        },
        "id": "cl20igrDs9Mu",
        "outputId": "d78e6551-7ad9-490a-9088-1b38daeaffed"
      },
      "source": [
        "df.shape"
      ],
      "execution_count": null,
      "outputs": [
        {
          "output_type": "execute_result",
          "data": {
            "text/plain": [
              "(53766, 3)"
            ]
          },
          "metadata": {},
          "execution_count": 193
        }
      ]
    },
    {
      "cell_type": "markdown",
      "metadata": {
        "id": "fvpbJV3xtvPJ"
      },
      "source": [
        "Tentu banyaknya data ini belum tentu bersih, oleh sebab itu dilakukan pengecekan data yang hilang atau value missing. disini ada dua cara yaitu dengan melihatnya melalui plot dengan bantuan library jcopml ``plot_missing_value(df)`` atau bisa dengan menggunakan bantuan dari library pandas yaitu dengan ``df.isnull().sum().sum())`` dan ternyata data kita ada yang kosong atau nan berjumlah 295 data.\n",
        "\n",
        "Solusi untuk mengatasi permasalahan ini adalah dengan menghilangkan data yang kita anggap kotor dengan bantuan pandas maka kode untuk menghilangkan data tersebut adalah:\n"
      ]
    },
    {
      "cell_type": "code",
      "metadata": {
        "colab": {
          "base_uri": "https://localhost:8080/"
        },
        "id": "QndC2YnWs_Jz",
        "outputId": "0faa0c5f-0bce-48f3-c2ca-af89a2c8dfb6"
      },
      "source": [
        "df.info()"
      ],
      "execution_count": null,
      "outputs": [
        {
          "output_type": "stream",
          "name": "stdout",
          "text": [
            "<class 'pandas.core.frame.DataFrame'>\n",
            "RangeIndex: 53766 entries, 0 to 53765\n",
            "Data columns (total 3 columns):\n",
            " #   Column          Non-Null Count  Dtype \n",
            "---  ------          --------------  ----- \n",
            " 0   drugName        53766 non-null  object\n",
            " 1   Prescribed_for  53471 non-null  object\n",
            " 2   metadata        53766 non-null  object\n",
            "dtypes: object(3)\n",
            "memory usage: 1.2+ MB\n"
          ]
        }
      ]
    },
    {
      "cell_type": "code",
      "metadata": {
        "colab": {
          "base_uri": "https://localhost:8080/",
          "height": 507
        },
        "id": "VwgAMa88vx-L",
        "outputId": "59c85d6d-f0e6-4d52-f9ff-c24ba6b0a2a0"
      },
      "source": [
        "plot_missing_value(df)"
      ],
      "execution_count": null,
      "outputs": [
        {
          "output_type": "display_data",
          "data": {
            "image/png": "[encoded data removed]",
            "text/plain": [
              "<Figure size 1080x576 with 1 Axes>"
            ]
          },
          "metadata": {}
        }
      ]
    },
    {
      "cell_type": "code",
      "metadata": {
        "colab": {
          "base_uri": "https://localhost:8080/"
        },
        "id": "vfrVjl20wIDH",
        "outputId": "9f77df22-bd50-405f-cec6-15b6856bb001"
      },
      "source": [
        "print(\"Data NaN berjumlah :\",df.isnull().sum().sum())"
      ],
      "execution_count": null,
      "outputs": [
        {
          "output_type": "stream",
          "name": "stdout",
          "text": [
            "Data NaN berjumlah : 295\n"
          ]
        }
      ]
    },
    {
      "cell_type": "code",
      "metadata": {
        "colab": {
          "base_uri": "https://localhost:8080/"
        },
        "id": "Ztkin4Z1xLDz",
        "outputId": "22dfac9e-3c81-45cd-d361-7e7cf337d61a"
      },
      "source": [
        "df = df.dropna() \n",
        "print(\"Data NaN menjadi : \", df.isnull().sum().sum())\n",
        "df.shape"
      ],
      "execution_count": null,
      "outputs": [
        {
          "output_type": "stream",
          "name": "stdout",
          "text": [
            "Data NaN menjadi :  0\n"
          ]
        },
        {
          "output_type": "execute_result",
          "data": {
            "text/plain": [
              "(53471, 3)"
            ]
          },
          "metadata": {},
          "execution_count": 159
        }
      ]
    },
    {
      "cell_type": "code",
      "metadata": {
        "colab": {
          "base_uri": "https://localhost:8080/",
          "height": 419
        },
        "id": "TRjXn8wrwshV",
        "outputId": "5c9d8501-766b-438e-cad8-edc2f78ede99"
      },
      "source": [
        "df"
      ],
      "execution_count": null,
      "outputs": [
        {
          "output_type": "execute_result",
          "data": {
            "text/html": [
              "<div>\n",
              "<style scoped>\n",
              "    .dataframe tbody tr th:only-of-type {\n",
              "        vertical-align: middle;\n",
              "    }\n",
              "\n",
              "    .dataframe tbody tr th {\n",
              "        vertical-align: top;\n",
              "    }\n",
              "\n",
              "    .dataframe thead th {\n",
              "        text-align: right;\n",
              "    }\n",
              "</style>\n",
              "<table border=\"1\" class=\"dataframe\">\n",
              "  <thead>\n",
              "    <tr style=\"text-align: right;\">\n",
              "      <th></th>\n",
              "      <th>drugName</th>\n",
              "      <th>Prescribed_for</th>\n",
              "      <th>metadata</th>\n",
              "    </tr>\n",
              "  </thead>\n",
              "  <tbody>\n",
              "    <tr>\n",
              "      <th>0</th>\n",
              "      <td>Mirtazapine</td>\n",
              "      <td>Depression</td>\n",
              "      <td>Depression \"I&amp;#039;ve tried a few antidepressa...</td>\n",
              "    </tr>\n",
              "    <tr>\n",
              "      <th>1</th>\n",
              "      <td>Mesalamine</td>\n",
              "      <td>Crohn's Disease, Maintenance</td>\n",
              "      <td>Crohn's Disease, Maintenance \"My son has Crohn...</td>\n",
              "    </tr>\n",
              "    <tr>\n",
              "      <th>2</th>\n",
              "      <td>Bactrim</td>\n",
              "      <td>Urinary Tract Infection</td>\n",
              "      <td>Urinary Tract Infection \"Quick reduction of sy...</td>\n",
              "    </tr>\n",
              "    <tr>\n",
              "      <th>3</th>\n",
              "      <td>Contrave</td>\n",
              "      <td>Weight Loss</td>\n",
              "      <td>Weight Loss \"Contrave combines drugs that were...</td>\n",
              "    </tr>\n",
              "    <tr>\n",
              "      <th>4</th>\n",
              "      <td>Cyclafem 1 / 35</td>\n",
              "      <td>Birth Control</td>\n",
              "      <td>Birth Control \"I have been on this birth contr...</td>\n",
              "    </tr>\n",
              "    <tr>\n",
              "      <th>...</th>\n",
              "      <td>...</td>\n",
              "      <td>...</td>\n",
              "      <td>...</td>\n",
              "    </tr>\n",
              "    <tr>\n",
              "      <th>53761</th>\n",
              "      <td>Tamoxifen</td>\n",
              "      <td>Breast Cancer, Prevention</td>\n",
              "      <td>Breast Cancer, Prevention \"I have taken Tamoxi...</td>\n",
              "    </tr>\n",
              "    <tr>\n",
              "      <th>53762</th>\n",
              "      <td>Escitalopram</td>\n",
              "      <td>Anxiety</td>\n",
              "      <td>Anxiety \"I&amp;#039;ve been taking Lexapro (escita...</td>\n",
              "    </tr>\n",
              "    <tr>\n",
              "      <th>53763</th>\n",
              "      <td>Levonorgestrel</td>\n",
              "      <td>Birth Control</td>\n",
              "      <td>Birth Control \"I&amp;#039;m married, 34 years old ...</td>\n",
              "    </tr>\n",
              "    <tr>\n",
              "      <th>53764</th>\n",
              "      <td>Tapentadol</td>\n",
              "      <td>Pain</td>\n",
              "      <td>Pain \"I was prescribed Nucynta for severe neck...</td>\n",
              "    </tr>\n",
              "    <tr>\n",
              "      <th>53765</th>\n",
              "      <td>Arthrotec</td>\n",
              "      <td>Sciatica</td>\n",
              "      <td>Sciatica \"It works!!!\"</td>\n",
              "    </tr>\n",
              "  </tbody>\n",
              "</table>\n",
              "<p>53471 rows × 3 columns</p>\n",
              "</div>"
            ],
            "text/plain": [
              "              drugName  ...                                           metadata\n",
              "0          Mirtazapine  ...  Depression \"I&#039;ve tried a few antidepressa...\n",
              "1           Mesalamine  ...  Crohn's Disease, Maintenance \"My son has Crohn...\n",
              "2              Bactrim  ...  Urinary Tract Infection \"Quick reduction of sy...\n",
              "3             Contrave  ...  Weight Loss \"Contrave combines drugs that were...\n",
              "4      Cyclafem 1 / 35  ...  Birth Control \"I have been on this birth contr...\n",
              "...                ...  ...                                                ...\n",
              "53761        Tamoxifen  ...  Breast Cancer, Prevention \"I have taken Tamoxi...\n",
              "53762     Escitalopram  ...  Anxiety \"I&#039;ve been taking Lexapro (escita...\n",
              "53763   Levonorgestrel  ...  Birth Control \"I&#039;m married, 34 years old ...\n",
              "53764       Tapentadol  ...  Pain \"I was prescribed Nucynta for severe neck...\n",
              "53765        Arthrotec  ...                             Sciatica \"It works!!!\"\n",
              "\n",
              "[53471 rows x 3 columns]"
            ]
          },
          "metadata": {},
          "execution_count": 160
        }
      ]
    },
    {
      "cell_type": "markdown",
      "metadata": {
        "id": "cI-X-5XiuESn"
      },
      "source": [
        "untuk melihat penyebaran data top 5 misalnya dari penjelasan mengenai gejala atau penyakit yang diderita(Prescribed_for) dapat dicheck dengan visualisasi data dengan bantuan library matplotlib dan seaborn dengan kode:"
      ]
    },
    {
      "cell_type": "code",
      "metadata": {
        "colab": {
          "base_uri": "https://localhost:8080/",
          "height": 611
        },
        "id": "TwG0pQ3Zr8tx",
        "outputId": "6df8bd6f-b490-4ec3-e679-af1d7c4df7e7"
      },
      "source": [
        "plt.figure(figsize=(12,10))\n",
        "sns.set(style=\"darkgrid\")\n",
        "ax = sns.countplot(x=\"Prescribed_for\", data=df, palette=\"Set2\", order=df['Prescribed_for'].value_counts().index[0:5])"
      ],
      "execution_count": null,
      "outputs": [
        {
          "output_type": "display_data",
          "data": {
            "image/png": "[encoded data removed]",
            "text/plain": [
              "<Figure size 864x720 with 1 Axes>"
            ]
          },
          "metadata": {}
        }
      ]
    },
    {
      "cell_type": "markdown",
      "metadata": {
        "id": "ny8HSPDsuKY6"
      },
      "source": [
        "Terlihat disini bahwa gejala birth control mendominasi kasus yang ada pada dataset ini dengan penyebaran datanya diatas 9000 kasus. Dilanjutkan dengan Depression, pain, anxiety dan acne. Untuk melihat penyebaran yang lebih lengkap beserta value angka yang ada pada setiap gejala bisa diurutkan dengan kode seperti berikut:"
      ]
    },
    {
      "cell_type": "code",
      "metadata": {
        "colab": {
          "base_uri": "https://localhost:8080/",
          "height": 390
        },
        "id": "dX4r7u6JvQiE",
        "outputId": "9e9cad1e-ea37-439e-c206-f03be10060fe"
      },
      "source": [
        "Prescribed_for_count=df['Prescribed_for'].value_counts().sort_values(ascending=False)\n",
        "Prescribed_for_count=pd.DataFrame(Prescribed_for_count)\n",
        "topPrescribed_for=Prescribed_for_count[0:11]\n",
        "topPrescribed_for"
      ],
      "execution_count": null,
      "outputs": [
        {
          "output_type": "execute_result",
          "data": {
            "text/html": [
              "<div>\n",
              "<style scoped>\n",
              "    .dataframe tbody tr th:only-of-type {\n",
              "        vertical-align: middle;\n",
              "    }\n",
              "\n",
              "    .dataframe tbody tr th {\n",
              "        vertical-align: top;\n",
              "    }\n",
              "\n",
              "    .dataframe thead th {\n",
              "        text-align: right;\n",
              "    }\n",
              "</style>\n",
              "<table border=\"1\" class=\"dataframe\">\n",
              "  <thead>\n",
              "    <tr style=\"text-align: right;\">\n",
              "      <th></th>\n",
              "      <th>Prescribed_for</th>\n",
              "    </tr>\n",
              "  </thead>\n",
              "  <tbody>\n",
              "    <tr>\n",
              "      <th>Birth Control</th>\n",
              "      <td>9648</td>\n",
              "    </tr>\n",
              "    <tr>\n",
              "      <th>Depression</th>\n",
              "      <td>3095</td>\n",
              "    </tr>\n",
              "    <tr>\n",
              "      <th>Pain</th>\n",
              "      <td>2100</td>\n",
              "    </tr>\n",
              "    <tr>\n",
              "      <th>Anxiety</th>\n",
              "      <td>1908</td>\n",
              "    </tr>\n",
              "    <tr>\n",
              "      <th>Acne</th>\n",
              "      <td>1847</td>\n",
              "    </tr>\n",
              "    <tr>\n",
              "      <th>Bipolar Disorde</th>\n",
              "      <td>1380</td>\n",
              "    </tr>\n",
              "    <tr>\n",
              "      <th>Weight Loss</th>\n",
              "      <td>1248</td>\n",
              "    </tr>\n",
              "    <tr>\n",
              "      <th>Insomnia</th>\n",
              "      <td>1231</td>\n",
              "    </tr>\n",
              "    <tr>\n",
              "      <th>Obesity</th>\n",
              "      <td>1189</td>\n",
              "    </tr>\n",
              "    <tr>\n",
              "      <th>ADHD</th>\n",
              "      <td>1126</td>\n",
              "    </tr>\n",
              "    <tr>\n",
              "      <th>Emergency Contraception</th>\n",
              "      <td>827</td>\n",
              "    </tr>\n",
              "  </tbody>\n",
              "</table>\n",
              "</div>"
            ],
            "text/plain": [
              "                         Prescribed_for\n",
              "Birth Control                      9648\n",
              "Depression                         3095\n",
              "Pain                               2100\n",
              "Anxiety                            1908\n",
              "Acne                               1847\n",
              "Bipolar Disorde                    1380\n",
              "Weight Loss                        1248\n",
              "Insomnia                           1231\n",
              "Obesity                            1189\n",
              "ADHD                               1126\n",
              "Emergency Contraception             827"
            ]
          },
          "metadata": {},
          "execution_count": 164
        }
      ]
    },
    {
      "cell_type": "markdown",
      "metadata": {
        "id": "pLUGFGcluOXO"
      },
      "source": [
        "Selanjutnya adalah kita analysis obat apa saja yang paling banyak digunakan oleh pengguna berdasarkan ulasan, dipilih 5 obat teratas dan dengan teknik yang sama seperti diatas dapat dilihat visualisasi dan tabel penyebaran datanya:"
      ]
    },
    {
      "cell_type": "code",
      "metadata": {
        "colab": {
          "base_uri": "https://localhost:8080/",
          "height": 611
        },
        "id": "BngXcN-UsSVn",
        "outputId": "2ab1e825-400d-4854-ac67-0cf0948add34"
      },
      "source": [
        "plt.figure(figsize=(12,10))\n",
        "sns.set(style=\"darkgrid\")\n",
        "ax = sns.countplot(x=\"drugName\", data=df, palette=\"Set2\", order=df['drugName'].value_counts().index[0:5])"
      ],
      "execution_count": null,
      "outputs": [
        {
          "output_type": "display_data",
          "data": {
            "image/png": "[encoded data removed]",
            "text/plain": [
              "<Figure size 864x720 with 1 Axes>"
            ]
          },
          "metadata": {}
        }
      ]
    },
    {
      "cell_type": "code",
      "metadata": {
        "colab": {
          "base_uri": "https://localhost:8080/",
          "height": 390
        },
        "id": "oAJAZl_Utc5e",
        "outputId": "1c03da20-a60a-4c63-ddbb-f4439d36790c"
      },
      "source": [
        "drug_count=df['drugName'].value_counts().sort_values(ascending=False)\n",
        "drug_count=pd.DataFrame(drug_count)\n",
        "topdrug=drug_count[0:11]\n",
        "topdrug"
      ],
      "execution_count": null,
      "outputs": [
        {
          "output_type": "execute_result",
          "data": {
            "text/html": [
              "<div>\n",
              "<style scoped>\n",
              "    .dataframe tbody tr th:only-of-type {\n",
              "        vertical-align: middle;\n",
              "    }\n",
              "\n",
              "    .dataframe tbody tr th {\n",
              "        vertical-align: top;\n",
              "    }\n",
              "\n",
              "    .dataframe thead th {\n",
              "        text-align: right;\n",
              "    }\n",
              "</style>\n",
              "<table border=\"1\" class=\"dataframe\">\n",
              "  <thead>\n",
              "    <tr style=\"text-align: right;\">\n",
              "      <th></th>\n",
              "      <th>drugName</th>\n",
              "    </tr>\n",
              "  </thead>\n",
              "  <tbody>\n",
              "    <tr>\n",
              "      <th>Levonorgestrel</th>\n",
              "      <td>1265</td>\n",
              "    </tr>\n",
              "    <tr>\n",
              "      <th>Etonogestrel</th>\n",
              "      <td>1081</td>\n",
              "    </tr>\n",
              "    <tr>\n",
              "      <th>Ethinyl estradiol / norethindrone</th>\n",
              "      <td>869</td>\n",
              "    </tr>\n",
              "    <tr>\n",
              "      <th>Nexplanon</th>\n",
              "      <td>736</td>\n",
              "    </tr>\n",
              "    <tr>\n",
              "      <th>Ethinyl estradiol / norgestimate</th>\n",
              "      <td>649</td>\n",
              "    </tr>\n",
              "    <tr>\n",
              "      <th>Ethinyl estradiol / levonorgestrel</th>\n",
              "      <td>591</td>\n",
              "    </tr>\n",
              "    <tr>\n",
              "      <th>Phentermine</th>\n",
              "      <td>539</td>\n",
              "    </tr>\n",
              "    <tr>\n",
              "      <th>Sertraline</th>\n",
              "      <td>506</td>\n",
              "    </tr>\n",
              "    <tr>\n",
              "      <th>Escitalopram</th>\n",
              "      <td>452</td>\n",
              "    </tr>\n",
              "    <tr>\n",
              "      <th>Mirena</th>\n",
              "      <td>431</td>\n",
              "    </tr>\n",
              "    <tr>\n",
              "      <th>Implanon</th>\n",
              "      <td>404</td>\n",
              "    </tr>\n",
              "  </tbody>\n",
              "</table>\n",
              "</div>"
            ],
            "text/plain": [
              "                                    drugName\n",
              "Levonorgestrel                          1265\n",
              "Etonogestrel                            1081\n",
              "Ethinyl estradiol / norethindrone        869\n",
              "Nexplanon                                736\n",
              "Ethinyl estradiol / norgestimate         649\n",
              "Ethinyl estradiol / levonorgestrel       591\n",
              "Phentermine                              539\n",
              "Sertraline                               506\n",
              "Escitalopram                             452\n",
              "Mirena                                   431\n",
              "Implanon                                 404"
            ]
          },
          "metadata": {},
          "execution_count": 163
        }
      ]
    },
    {
      "cell_type": "markdown",
      "metadata": {
        "id": "Tt8dyDcYt47l"
      },
      "source": [
        "Selanjutnya, banyak isi dari baris data yang kotor berisi angka - angka dan simbol yang tidak diperlukan dan justru mengganggu pada saat proses preprocessing data. maka langka selanjutnya adalah membersihkan data tersebut dari dataset dengan cara menghilangkan simbol dan angka yang tidak diperlukan dengan cara ``df['metadata'] = df['metadata'].str.replace('\\d+', '')``"
      ]
    },
    {
      "cell_type": "code",
      "metadata": {
        "colab": {
          "base_uri": "https://localhost:8080/",
          "height": 204
        },
        "id": "nTxbzuYD4r00",
        "outputId": "4851ee8f-45fd-4d68-d09a-181cfd5d8df5"
      },
      "source": [
        "#cleaning number\n",
        "df['metadata'] = df['metadata'].str.replace('\\d+', '')\n",
        "df.head(5)"
      ],
      "execution_count": null,
      "outputs": [
        {
          "output_type": "execute_result",
          "data": {
            "text/html": [
              "<div>\n",
              "<style scoped>\n",
              "    .dataframe tbody tr th:only-of-type {\n",
              "        vertical-align: middle;\n",
              "    }\n",
              "\n",
              "    .dataframe tbody tr th {\n",
              "        vertical-align: top;\n",
              "    }\n",
              "\n",
              "    .dataframe thead th {\n",
              "        text-align: right;\n",
              "    }\n",
              "</style>\n",
              "<table border=\"1\" class=\"dataframe\">\n",
              "  <thead>\n",
              "    <tr style=\"text-align: right;\">\n",
              "      <th></th>\n",
              "      <th>drugName</th>\n",
              "      <th>Prescribed_for</th>\n",
              "      <th>metadata</th>\n",
              "    </tr>\n",
              "  </thead>\n",
              "  <tbody>\n",
              "    <tr>\n",
              "      <th>0</th>\n",
              "      <td>Mirtazapine</td>\n",
              "      <td>Depression</td>\n",
              "      <td>Depression \"I&amp;#;ve tried a few antidepressants...</td>\n",
              "    </tr>\n",
              "    <tr>\n",
              "      <th>1</th>\n",
              "      <td>Mesalamine</td>\n",
              "      <td>Crohn's Disease, Maintenance</td>\n",
              "      <td>Crohn's Disease, Maintenance \"My son has Crohn...</td>\n",
              "    </tr>\n",
              "    <tr>\n",
              "      <th>2</th>\n",
              "      <td>Bactrim</td>\n",
              "      <td>Urinary Tract Infection</td>\n",
              "      <td>Urinary Tract Infection \"Quick reduction of sy...</td>\n",
              "    </tr>\n",
              "    <tr>\n",
              "      <th>3</th>\n",
              "      <td>Contrave</td>\n",
              "      <td>Weight Loss</td>\n",
              "      <td>Weight Loss \"Contrave combines drugs that were...</td>\n",
              "    </tr>\n",
              "    <tr>\n",
              "      <th>4</th>\n",
              "      <td>Cyclafem 1 / 35</td>\n",
              "      <td>Birth Control</td>\n",
              "      <td>Birth Control \"I have been on this birth contr...</td>\n",
              "    </tr>\n",
              "  </tbody>\n",
              "</table>\n",
              "</div>"
            ],
            "text/plain": [
              "          drugName  ...                                           metadata\n",
              "0      Mirtazapine  ...  Depression \"I&#;ve tried a few antidepressants...\n",
              "1       Mesalamine  ...  Crohn's Disease, Maintenance \"My son has Crohn...\n",
              "2          Bactrim  ...  Urinary Tract Infection \"Quick reduction of sy...\n",
              "3         Contrave  ...  Weight Loss \"Contrave combines drugs that were...\n",
              "4  Cyclafem 1 / 35  ...  Birth Control \"I have been on this birth contr...\n",
              "\n",
              "[5 rows x 3 columns]"
            ]
          },
          "metadata": {},
          "execution_count": 12
        }
      ]
    },
    {
      "cell_type": "code",
      "metadata": {
        "colab": {
          "base_uri": "https://localhost:8080/"
        },
        "id": "IFlWnmDNHqvW",
        "outputId": "5365d09e-a521-4883-d2b6-82346ac8b545"
      },
      "source": [
        "print('Rata - rata jumlah frasa per baris adalah {0:.0f}.'.format(df.groupby('drugName')['metadata'].count().mean()))"
      ],
      "execution_count": null,
      "outputs": [
        {
          "output_type": "stream",
          "name": "stdout",
          "text": [
            "Rata - rata jumlah frasa per baris adalah 20.\n"
          ]
        }
      ]
    },
    {
      "cell_type": "code",
      "metadata": {
        "colab": {
          "base_uri": "https://localhost:8080/"
        },
        "id": "Ht9n77jXHq3S",
        "outputId": "2431963d-a6b2-45d1-bdb4-301f25861620"
      },
      "source": [
        "print('Jumlah frasa dalam data: {}. Jumlah kalimat dalam data {}. '.format(df.shape[0], len(df.drugName.unique())))"
      ],
      "execution_count": null,
      "outputs": [
        {
          "output_type": "stream",
          "name": "stdout",
          "text": [
            "Jumlah frasa dalam data: 53766. Jumlah kalimat dalam data 2637. \n"
          ]
        }
      ]
    },
    {
      "cell_type": "code",
      "metadata": {
        "colab": {
          "base_uri": "https://localhost:8080/"
        },
        "id": "VVlImi-yHq5v",
        "outputId": "5175c8f5-7c9a-4104-e0e7-b7d62a33e854"
      },
      "source": [
        "print('Rata - rata panjang kata dari frasa pada dataset {0:.0f}.'.format(np.mean(df['metadata'].apply(lambda x: len(x.split())))))"
      ],
      "execution_count": null,
      "outputs": [
        {
          "output_type": "stream",
          "name": "stdout",
          "text": [
            "Rata - rata panjang kata dari frasa pada dataset 85.\n"
          ]
        }
      ]
    },
    {
      "cell_type": "code",
      "metadata": {
        "id": "uAl32tgxzOWV"
      },
      "source": [
        "have_emoji_train_idx = []\n",
        "have_emoji_test_idx = []\n",
        "\n",
        "for idx, review in enumerate(df['metadata']):\n",
        "    if any(char in emoji.UNICODE_EMOJI for char in 'metadata'):\n",
        "           have_emoji_train_idx.append(idx)"
      ],
      "execution_count": null,
      "outputs": []
    },
    {
      "cell_type": "code",
      "metadata": {
        "colab": {
          "base_uri": "https://localhost:8080/"
        },
        "id": "E4n80IlayHaI",
        "outputId": "bf5ae310-d15e-4a88-b207-eaabc52fce44"
      },
      "source": [
        "train_emoji_percentage = round(len(have_emoji_train_idx) / df.metadata.shape[0] * 100, 2)\n",
        "print(f'Train data has {len(have_emoji_train_idx)} rows that used emoji, that means {train_emoji_percentage} percent of the total')"
      ],
      "execution_count": null,
      "outputs": [
        {
          "output_type": "stream",
          "name": "stdout",
          "text": [
            "Train data has 0 rows that used emoji, that means 0.0 percent of the total\n"
          ]
        }
      ]
    },
    {
      "cell_type": "code",
      "metadata": {
        "colab": {
          "base_uri": "https://localhost:8080/"
        },
        "id": "SPmnEjyejZd3",
        "outputId": "c90f244a-7aa6-41c7-9388-85110df4eae3"
      },
      "source": [
        "repeated_rows_train = []\n",
        "\n",
        "for idx, review in enumerate(df['metadata']):\n",
        "    if re.match(r'\\w*(\\w)\\1+', review):\n",
        "        repeated_rows_train.append(idx)\n",
        "\n",
        "        \n",
        "print(f'Total {len(repeated_rows_train)} rows')"
      ],
      "execution_count": null,
      "outputs": [
        {
          "output_type": "stream",
          "name": "stdout",
          "text": [
            "Total 5139 rows\n"
          ]
        }
      ]
    },
    {
      "cell_type": "code",
      "metadata": {
        "colab": {
          "base_uri": "https://localhost:8080/"
        },
        "id": "vztwWdYdkYfV",
        "outputId": "4fec33a1-d001-4060-b2d4-a8db1797a287"
      },
      "source": [
        "test1 = \"UUUURRGGGEENNTTT\"\n",
        "print(re.sub(r'(\\w)\\1+', r'\\1', test1))\n",
        "\n",
        "test2 = \"good product quality good value for money \"\n",
        "print(re.sub(r'(\\w)\\1+', r'\\1', test2))"
      ],
      "execution_count": null,
      "outputs": [
        {
          "output_type": "stream",
          "name": "stdout",
          "text": [
            "URGENT\n",
            "god product quality god value for money \n"
          ]
        }
      ]
    },
    {
      "cell_type": "code",
      "metadata": {
        "id": "WSgMuWEvkDDO"
      },
      "source": [
        "def delete_repeated_char(text):\n",
        "    \n",
        "    text = re.sub(r'(\\w)\\1{2,}', r'\\1', text)\n",
        "    \n",
        "    return text"
      ],
      "execution_count": null,
      "outputs": []
    },
    {
      "cell_type": "code",
      "metadata": {
        "id": "r-OdKxmkj1aW"
      },
      "source": [
        "df.loc[repeated_rows_train, 'metadata'] = df.loc[repeated_rows_train, 'metadata'].apply(delete_repeated_char)"
      ],
      "execution_count": null,
      "outputs": []
    },
    {
      "cell_type": "code",
      "metadata": {
        "id": "46iPlshVz8Ub"
      },
      "source": [
        "def review_cleaning(text):\n",
        "    \n",
        "    # delete lowercase and newline\n",
        "    text = text.lower()\n",
        "    text = re.sub(r'\\n', '', text)\n",
        "    \n",
        "    # change emoticon to text\n",
        "    text = re.sub(r':\\(', 'dislike', text)\n",
        "    text = re.sub(r': \\(\\(', 'dislike', text)\n",
        "    text = re.sub(r':, \\(', 'dislike', text)\n",
        "    text = re.sub(r':\\)', 'smile', text)\n",
        "    text = re.sub(r';\\)', 'smile', text)\n",
        "    text = re.sub(r':\\)\\)\\)', 'smile', text)\n",
        "    text = re.sub(r':\\)\\)\\)\\)\\)\\)', 'smile', text)\n",
        "    text = re.sub(r'=\\)\\)\\)\\)', 'smile', text)\n",
        "    \n",
        "    # delete punctuation\n",
        "    text = re.sub('[^a-z0-9 ]', ' ', text)\n",
        "    \n",
        "    tokenizer = text.split()\n",
        "    \n",
        "    return ' '.join([text for text in tokenizer])"
      ],
      "execution_count": null,
      "outputs": []
    },
    {
      "cell_type": "code",
      "metadata": {
        "id": "oXWiFPTrz8b7"
      },
      "source": [
        "df['metadata'] = df['metadata'].apply(review_cleaning)"
      ],
      "execution_count": null,
      "outputs": []
    },
    {
      "cell_type": "code",
      "metadata": {
        "colab": {
          "base_uri": "https://localhost:8080/"
        },
        "id": "ETWOJM2d0Kvo",
        "outputId": "b1f7fa61-a01e-407d-a3f6-b7ec55a0cc18"
      },
      "source": [
        "before = pd.read_csv('/tmp/Drug_Data.csv')\n",
        "\n",
        "print('Before: ', before.loc[1, 'Drug_Review'])\n",
        "print('After: ', df.loc[1, 'metadata'])\n",
        "print('')\n",
        "print('')\n",
        "print('Before: ', before.loc[50, 'Drug_Review'])\n",
        "print('After: ', df.loc[50, 'metadata'])\n",
        "print('')\n",
        "print('')\n",
        "print('Before: ', before.loc[100, 'Drug_Review'])\n",
        "print('After: ', df.loc[100, 'metadata'])\n",
        "print('')\n",
        "print('')\n",
        "print('Before: ', before.loc[1000, 'Drug_Review'])\n",
        "print('After: ', df.loc[1000, 'metadata'])"
      ],
      "execution_count": null,
      "outputs": [
        {
          "output_type": "stream",
          "name": "stdout",
          "text": [
            "Before:  \"My son has Crohn&#039;s disease and has done very well on the Asacol.  He has no complaints and shows no side effects.  He has taken as many as nine tablets per day at one time.  I&#039;ve been very happy with the results, reducing his bouts of diarrhea drastically.\"\n",
            "After:  crohn s disease maintenance my son has crohn s disease and has done very well on the asacol he has no complaints and shows no side effects he has taken as many as nine tablets per day at one time i ve been very happy with the results reducing his bouts of diarrhea drastically\n",
            "\n",
            "\n",
            "Before:  \"I&#039;ve had this birth control for a year now and at first things were going good, I only had a period once and never had one since but now I have super bad anxiety, I would constantly think I was pregnant, would waste my money on pregnancy test even though I am NOT pregnant and my depression was very bad and honestly , I really don&#039;t think it&#039;s worth it at all. I&#039;m getting it removed tomorrow and I most likely am going to have to be in therapy.\"\n",
            "After:  birth control i ve had this birth control for a year now and at first things were going good i only had a period once and never had one since but now i have super bad anxiety i would constantly think i was pregnant would waste my money on pregnancy test even though i am not pregnant and my depression was very bad and honestly i really don t think it s worth it at all i m getting it removed tomorrow and i most likely am going to have to be in therapy\n",
            "\n",
            "\n",
            "Before:  \"My 5 year old son was diagnosed with ADHD just yesterday, the Behavior Specialist said his was one of the worst cases that she had seen in a while, she had suggested putting him on a stimulant medication, I told her i would like to  a non-stimulant medication first and she prescribed him Kapvay. My son took it for the first time last night before bed, he went right to sleep and when he woke up this morning he was the calmest most pleasant, helpful and nicest he had ever been in his life. I could not believe the overnight change. I&#039;m so glad it worked so fast, he has not gotten in trouble once today which is a new record! His teachers are going to be thrilled on Monday! Thank you to the makers of Clonidine!\"\n",
            "After:  adhd my year old son was diagnosed with adhd just yesterday the behavior specialist said his was one of the worst cases that she had seen in a while she had suggested putting him on a stimulant medication i told her i would like to a non stimulant medication first and she prescribed him kapvay my son took it for the first time last night before bed he went right to sleep and when he woke up this morning he was the calmest most pleasant helpful and nicest he had ever been in his life i could not believe the overnight change i m so glad it worked so fast he has not gotten in trouble once today which is a new record his teachers are going to be thrilled on monday thank you to the makers of clonidine\n",
            "\n",
            "\n",
            "Before:  \"I had unrefreshing sleep, and needed a lot of it. Endep is awesome as can now get a good night sleep, feel refreshed for a few hours after waking, and decreases my body aches. No negative side effects for me luckily.\"\n",
            "After:  ibromyalgia i had unrefreshing sleep and needed a lot of it endep is awesome as can now get a good night sleep feel refreshed for a few hours after waking and decreases my body aches no negative side effects for me luckily\n"
          ]
        }
      ]
    },
    {
      "cell_type": "code",
      "metadata": {
        "colab": {
          "base_uri": "https://localhost:8080/",
          "height": 204
        },
        "id": "JL7-MMLUbEe4",
        "outputId": "a346c321-d9b9-4dca-8838-917c99d4b907"
      },
      "source": [
        "df.head()"
      ],
      "execution_count": null,
      "outputs": [
        {
          "output_type": "execute_result",
          "data": {
            "text/html": [
              "<div>\n",
              "<style scoped>\n",
              "    .dataframe tbody tr th:only-of-type {\n",
              "        vertical-align: middle;\n",
              "    }\n",
              "\n",
              "    .dataframe tbody tr th {\n",
              "        vertical-align: top;\n",
              "    }\n",
              "\n",
              "    .dataframe thead th {\n",
              "        text-align: right;\n",
              "    }\n",
              "</style>\n",
              "<table border=\"1\" class=\"dataframe\">\n",
              "  <thead>\n",
              "    <tr style=\"text-align: right;\">\n",
              "      <th></th>\n",
              "      <th>drugName</th>\n",
              "      <th>Prescribed_for</th>\n",
              "      <th>metadata</th>\n",
              "    </tr>\n",
              "  </thead>\n",
              "  <tbody>\n",
              "    <tr>\n",
              "      <th>0</th>\n",
              "      <td>Mirtazapine</td>\n",
              "      <td>Depression</td>\n",
              "      <td>depression i ve tried a few antidepressants ov...</td>\n",
              "    </tr>\n",
              "    <tr>\n",
              "      <th>1</th>\n",
              "      <td>Mesalamine</td>\n",
              "      <td>Crohn's Disease, Maintenance</td>\n",
              "      <td>crohn s disease maintenance my son has crohn s...</td>\n",
              "    </tr>\n",
              "    <tr>\n",
              "      <th>2</th>\n",
              "      <td>Bactrim</td>\n",
              "      <td>Urinary Tract Infection</td>\n",
              "      <td>urinary tract infection quick reduction of sym...</td>\n",
              "    </tr>\n",
              "    <tr>\n",
              "      <th>3</th>\n",
              "      <td>Contrave</td>\n",
              "      <td>Weight Loss</td>\n",
              "      <td>weight loss contrave combines drugs that were ...</td>\n",
              "    </tr>\n",
              "    <tr>\n",
              "      <th>4</th>\n",
              "      <td>Cyclafem 1 / 35</td>\n",
              "      <td>Birth Control</td>\n",
              "      <td>birth control i have been on this birth contro...</td>\n",
              "    </tr>\n",
              "  </tbody>\n",
              "</table>\n",
              "</div>"
            ],
            "text/plain": [
              "          drugName  ...                                           metadata\n",
              "0      Mirtazapine  ...  depression i ve tried a few antidepressants ov...\n",
              "1       Mesalamine  ...  crohn s disease maintenance my son has crohn s...\n",
              "2          Bactrim  ...  urinary tract infection quick reduction of sym...\n",
              "3         Contrave  ...  weight loss contrave combines drugs that were ...\n",
              "4  Cyclafem 1 / 35  ...  birth control i have been on this birth contro...\n",
              "\n",
              "[5 rows x 3 columns]"
            ]
          },
          "metadata": {},
          "execution_count": 25
        }
      ]
    },
    {
      "cell_type": "markdown",
      "metadata": {
        "id": "mETbt0XSkVY5"
      },
      "source": [
        "# Model Selection"
      ]
    },
    {
      "cell_type": "markdown",
      "metadata": {
        "id": "lQ5glTEdS5DO"
      },
      "source": [
        "## CountVectorizer"
      ]
    },
    {
      "cell_type": "markdown",
      "metadata": {
        "id": "9Qjbkt5MuWdy"
      },
      "source": [
        "Untuk menggunakan data tekstual untuk pemodelan prediktif, teks harus diurai untuk menghapus kata-kata tertentu - proses ini disebut tokenisasi . Kata-kata ini kemudian perlu dienkode sebagai bilangan bulat, atau nilai floating-point, untuk digunakan sebagai masukan dalam algoritme pembelajaran mesin. Proses ini disebut ekstraksi fitur (atau vektorisasi). CountVectorizer digunakan untuk mengonversi kumpulan dokumen teks menjadi vektor jumlah istilah / token. Ini juga memungkinkan pra-pemrosesan data teks sebelum menghasilkan representasi vektor. CountVectorizer dikenal sangat handal dalam memproses tokenisasi pada teks.\n",
        "\n",
        "CountVectorizer memiliki keunikan dalam mempresentasikan teks ke token dengan value hanya rentang (0,1) dan bisa sangat berguna untuk memproses data dengan alokasi waktu yang sangat cepat, akan tetapi memiliki kelemahan yang sangat besar yaitu bisa mempresentasikan kata yang berbeda tetapi dengan nilai yang serupa. Berikut adalah kelemahan yang dimiliki oleh CountVectorizer:\n",
        "\n",
        "- Ketidakmampuannya dalam mengidentifikasi kata-kata yang lebih penting dan - kurang penting untuk dianalisis.\n",
        "- hanya mempertimbangkan kata-kata yang berlimpah di corpus sebagai kata yang paling signifikan secara statistik.\n",
        "- tidak mengidentifikasi hubungan antar kata seperti kesamaan linguistik antar kata.\n",
        "\n",
        "Untuk penggunaan CountVectorizer cukup dengan memanggil kode from sklearn.feature_extraction.text import CountVectorizer dan secara default parameter yang diberikan sudah memberikan hasil yang optimal tanpa perlu setting lebih dalam lagi. pada dataset ini parameter yang digunakan hanya stop_words=\"english\", tokenizer = word_tokenize sudah bisa memberikan hasil rekomendasi sistem yang bisa dibilang cukup baik."
      ]
    },
    {
      "cell_type": "code",
      "metadata": {
        "id": "9HZv8fXpkXqx"
      },
      "source": [
        "bow = CountVectorizer(stop_words=\"english\", tokenizer = word_tokenize)\n",
        "model = bow.fit_transform(df['metadata'])"
      ],
      "execution_count": null,
      "outputs": []
    },
    {
      "cell_type": "markdown",
      "metadata": {
        "id": "9PQhlLeaS8pi"
      },
      "source": [
        "## TfidfVectorizer"
      ]
    },
    {
      "cell_type": "markdown",
      "metadata": {
        "id": "sOMHw0tJuiiC"
      },
      "source": [
        "Jika pada CountVectorizer tokenisasi hanya memberikan nilai (0,1) pada setiap kata maka untuk Tfidf value yang diberikan memiliki rentang (0,2) yang mana sesuai dengan perhitungannya setiap kata memiliki representasi tersendiri dan tidak akan memiliki value yang sama seperti dengan CountVectorizer ini adalah salah satu kelebihan yang dimiliki oleh tfidf.\n",
        "\n",
        "Untuk pemilihan value tinggi atau tidaknya tfidf memiliki cara dengan didasarkan pada logika bahwa kata-kata yang terlalu banyak dalam korpus dan kata-kata yang terlalu jarang keduanya tidak penting secara statistik untuk menemukan pola. Faktor logaritma dalam tfidf secara matematis menghukum kata-kata yang terlalu banyak atau terlalu jarang dalam korpus dengan memberikan nilai tfidf yang rendah.\n",
        "\n",
        "Nilai tfidf yang lebih tinggi menandakan pentingnya kata-kata yang lebih tinggi dalam korpus sementara nilai yang lebih rendah mewakili kepentingan yang lebih rendah. Dalam contoh gambar di atas kata “AI” hadir dalam kedua kalimat tersebut sedangkan kata “natural” dan “computer” masing-masing hanya ada dalam satu kalimat. Oleh karena itu nilai tfidf “AI” lebih rendah dari dua lainnya. Sedangkan untuk kata “Natural” ada lebih banyak kata di Text1 sehingga kepentingannya lebih rendah daripada “Computer” karena jumlah kata di Text2 lebih sedikit.\n",
        "\n",
        "\n",
        "Meskipun TFIDF dapat memberikan pemahaman yang baik tentang pentingnya kata-kata tetapi seperti halnya Hitung Vektor, kelemahannya adalah:\n",
        "\n",
        "- Gagal memberikan informasi linguistik tentang kata-kata seperti arti sebenarnya dari kata-kata itu, kesamaan dengan kata-kata lain, dll."
      ]
    },
    {
      "cell_type": "code",
      "metadata": {
        "id": "lA2r24YpS_9_"
      },
      "source": [
        "bow_tfidf = TfidfVectorizer(stop_words=\"english\", tokenizer = word_tokenize)\n",
        "model_tfidf = bow_tfidf.fit_transform(df['metadata'])"
      ],
      "execution_count": null,
      "outputs": []
    },
    {
      "cell_type": "markdown",
      "metadata": {
        "id": "AYVnpQ85mKbs"
      },
      "source": [
        "## Recommend"
      ]
    },
    {
      "cell_type": "markdown",
      "metadata": {
        "id": "cPVNcupAYMD_"
      },
      "source": [
        "## Recommend CountVectorizer"
      ]
    },
    {
      "cell_type": "code",
      "metadata": {
        "id": "9lbs9ejvk_dh",
        "colab": {
          "base_uri": "https://localhost:8080/"
        },
        "outputId": "550fc600-49c0-4b80-8a85-de4e1923e957"
      },
      "source": [
        "index = 0\n",
        "\n",
        "dist = cosine_distances(code, model)\n",
        "content = df.loc[index, \"metadata\"]\n",
        "code = bow.transform([content])\n",
        "rec_index = dist.argsort()[0, 1:10]\n",
        "print(content)"
      ],
      "execution_count": null,
      "outputs": [
        {
          "output_type": "stream",
          "name": "stdout",
          "text": [
            "depression i ve tried a few antidepressants over the years citalopram fluoxetine amitriptyline but none of those helped with my depression insomnia amp anxiety my doctor suggested and changed me onto mg mirtazapine and this medicine has saved my life thankfully i have had no side effects especially the most common weight gain i ve actually lost alot of weight i still have suicidal thoughts but mirtazapine has saved me\n"
          ]
        }
      ]
    },
    {
      "cell_type": "code",
      "metadata": {
        "colab": {
          "base_uri": "https://localhost:8080/",
          "height": 328
        },
        "id": "NBVWegYdYIE-",
        "outputId": "4c82697f-18b6-4d65-ae98-5117114178e6"
      },
      "source": [
        "df.loc[rec_index]"
      ],
      "execution_count": null,
      "outputs": [
        {
          "output_type": "execute_result",
          "data": {
            "text/html": [
              "<div>\n",
              "<style scoped>\n",
              "    .dataframe tbody tr th:only-of-type {\n",
              "        vertical-align: middle;\n",
              "    }\n",
              "\n",
              "    .dataframe tbody tr th {\n",
              "        vertical-align: top;\n",
              "    }\n",
              "\n",
              "    .dataframe thead th {\n",
              "        text-align: right;\n",
              "    }\n",
              "</style>\n",
              "<table border=\"1\" class=\"dataframe\">\n",
              "  <thead>\n",
              "    <tr style=\"text-align: right;\">\n",
              "      <th></th>\n",
              "      <th>drugName</th>\n",
              "      <th>Prescribed_for</th>\n",
              "      <th>metadata</th>\n",
              "    </tr>\n",
              "  </thead>\n",
              "  <tbody>\n",
              "    <tr>\n",
              "      <th>203</th>\n",
              "      <td>Bupropion</td>\n",
              "      <td>Depression</td>\n",
              "      <td>depression saved my life</td>\n",
              "    </tr>\n",
              "    <tr>\n",
              "      <th>49308</th>\n",
              "      <td>Mirtazapine</td>\n",
              "      <td>Depression</td>\n",
              "      <td>depression have been on mirtazapine for nearly...</td>\n",
              "    </tr>\n",
              "    <tr>\n",
              "      <th>7176</th>\n",
              "      <td>Trazodone</td>\n",
              "      <td>Depression</td>\n",
              "      <td>depression i have suffered with anxiety and in...</td>\n",
              "    </tr>\n",
              "    <tr>\n",
              "      <th>43375</th>\n",
              "      <td>Fluoxetine</td>\n",
              "      <td>Panic Disorde</td>\n",
              "      <td>panic disorde i have been on fluoxetine for ma...</td>\n",
              "    </tr>\n",
              "    <tr>\n",
              "      <th>51440</th>\n",
              "      <td>Mirtazapine</td>\n",
              "      <td>Insomnia</td>\n",
              "      <td>insomnia i suffered a neurotoxic reaction to a...</td>\n",
              "    </tr>\n",
              "    <tr>\n",
              "      <th>24334</th>\n",
              "      <td>Mirtazapine</td>\n",
              "      <td>Depression</td>\n",
              "      <td>depression i have been on mirtazapine for abou...</td>\n",
              "    </tr>\n",
              "    <tr>\n",
              "      <th>31915</th>\n",
              "      <td>Mirtazapine</td>\n",
              "      <td>Anxiety</td>\n",
              "      <td>anxiety mirtazapine its amazing medicine my an...</td>\n",
              "    </tr>\n",
              "    <tr>\n",
              "      <th>48880</th>\n",
              "      <td>Prozac</td>\n",
              "      <td>Depression</td>\n",
              "      <td>depression prozac saved me</td>\n",
              "    </tr>\n",
              "    <tr>\n",
              "      <th>3484</th>\n",
              "      <td>Mirtazapine</td>\n",
              "      <td>Depression</td>\n",
              "      <td>depression i ve tried many antidepressants bef...</td>\n",
              "    </tr>\n",
              "  </tbody>\n",
              "</table>\n",
              "</div>"
            ],
            "text/plain": [
              "          drugName  ...                                           metadata\n",
              "203      Bupropion  ...                           depression saved my life\n",
              "49308  Mirtazapine  ...  depression have been on mirtazapine for nearly...\n",
              "7176     Trazodone  ...  depression i have suffered with anxiety and in...\n",
              "43375   Fluoxetine  ...  panic disorde i have been on fluoxetine for ma...\n",
              "51440  Mirtazapine  ...  insomnia i suffered a neurotoxic reaction to a...\n",
              "24334  Mirtazapine  ...  depression i have been on mirtazapine for abou...\n",
              "31915  Mirtazapine  ...  anxiety mirtazapine its amazing medicine my an...\n",
              "48880       Prozac  ...                         depression prozac saved me\n",
              "3484   Mirtazapine  ...  depression i ve tried many antidepressants bef...\n",
              "\n",
              "[9 rows x 3 columns]"
            ]
          },
          "metadata": {},
          "execution_count": 36
        }
      ]
    },
    {
      "cell_type": "markdown",
      "metadata": {
        "id": "5lHuBvnbYWBJ"
      },
      "source": [
        "## Recommend TfidfVectorizer"
      ]
    },
    {
      "cell_type": "code",
      "metadata": {
        "colab": {
          "base_uri": "https://localhost:8080/"
        },
        "id": "oR2ehH1VXR6p",
        "outputId": "8f24f60e-7297-43d7-9260-ce1a76e0a156"
      },
      "source": [
        "index = 0\n",
        "\n",
        "dist_tfidf = cosine_distances(code, model_tfidf)\n",
        "content = df.loc[index, \"metadata\"]\n",
        "code = bow_tfidf.transform([content])\n",
        "rec_index = dist.argsort()[0, 1:10]\n",
        "print(content)"
      ],
      "execution_count": null,
      "outputs": [
        {
          "output_type": "stream",
          "name": "stdout",
          "text": [
            "depression i ve tried a few antidepressants over the years citalopram fluoxetine amitriptyline but none of those helped with my depression insomnia amp anxiety my doctor suggested and changed me onto mg mirtazapine and this medicine has saved my life thankfully i have had no side effects especially the most common weight gain i ve actually lost alot of weight i still have suicidal thoughts but mirtazapine has saved me\n"
          ]
        }
      ]
    },
    {
      "cell_type": "code",
      "metadata": {
        "colab": {
          "base_uri": "https://localhost:8080/",
          "height": 328
        },
        "id": "p7WQ1LzworkE",
        "outputId": "04a97587-e634-43ae-97be-d81f4a5c5420"
      },
      "source": [
        "df.loc[rec_index]"
      ],
      "execution_count": null,
      "outputs": [
        {
          "output_type": "execute_result",
          "data": {
            "text/html": [
              "<div>\n",
              "<style scoped>\n",
              "    .dataframe tbody tr th:only-of-type {\n",
              "        vertical-align: middle;\n",
              "    }\n",
              "\n",
              "    .dataframe tbody tr th {\n",
              "        vertical-align: top;\n",
              "    }\n",
              "\n",
              "    .dataframe thead th {\n",
              "        text-align: right;\n",
              "    }\n",
              "</style>\n",
              "<table border=\"1\" class=\"dataframe\">\n",
              "  <thead>\n",
              "    <tr style=\"text-align: right;\">\n",
              "      <th></th>\n",
              "      <th>drugName</th>\n",
              "      <th>Prescribed_for</th>\n",
              "      <th>metadata</th>\n",
              "    </tr>\n",
              "  </thead>\n",
              "  <tbody>\n",
              "    <tr>\n",
              "      <th>49308</th>\n",
              "      <td>Mirtazapine</td>\n",
              "      <td>Depression</td>\n",
              "      <td>depression have been on mirtazapine for nearly...</td>\n",
              "    </tr>\n",
              "    <tr>\n",
              "      <th>17136</th>\n",
              "      <td>Mirtazapine</td>\n",
              "      <td>Depression</td>\n",
              "      <td>depression mirtazapine made me so very tired h...</td>\n",
              "    </tr>\n",
              "    <tr>\n",
              "      <th>31915</th>\n",
              "      <td>Mirtazapine</td>\n",
              "      <td>Anxiety</td>\n",
              "      <td>anxiety mirtazapine its amazing medicine my an...</td>\n",
              "    </tr>\n",
              "    <tr>\n",
              "      <th>203</th>\n",
              "      <td>Bupropion</td>\n",
              "      <td>Depression</td>\n",
              "      <td>depression saved my life</td>\n",
              "    </tr>\n",
              "    <tr>\n",
              "      <th>24334</th>\n",
              "      <td>Mirtazapine</td>\n",
              "      <td>Depression</td>\n",
              "      <td>depression i have been on mirtazapine for abou...</td>\n",
              "    </tr>\n",
              "    <tr>\n",
              "      <th>43375</th>\n",
              "      <td>Fluoxetine</td>\n",
              "      <td>Panic Disorde</td>\n",
              "      <td>panic disorde i have been on fluoxetine for ma...</td>\n",
              "    </tr>\n",
              "    <tr>\n",
              "      <th>29380</th>\n",
              "      <td>Fluoxetine</td>\n",
              "      <td>Depression</td>\n",
              "      <td>depression first weeks on the medicine and i f...</td>\n",
              "    </tr>\n",
              "    <tr>\n",
              "      <th>51440</th>\n",
              "      <td>Mirtazapine</td>\n",
              "      <td>Insomnia</td>\n",
              "      <td>insomnia i suffered a neurotoxic reaction to a...</td>\n",
              "    </tr>\n",
              "    <tr>\n",
              "      <th>12629</th>\n",
              "      <td>Mirtazapine</td>\n",
              "      <td>Depression</td>\n",
              "      <td>depression i was prescribed mirtazapine after ...</td>\n",
              "    </tr>\n",
              "  </tbody>\n",
              "</table>\n",
              "</div>"
            ],
            "text/plain": [
              "          drugName  ...                                           metadata\n",
              "49308  Mirtazapine  ...  depression have been on mirtazapine for nearly...\n",
              "17136  Mirtazapine  ...  depression mirtazapine made me so very tired h...\n",
              "31915  Mirtazapine  ...  anxiety mirtazapine its amazing medicine my an...\n",
              "203      Bupropion  ...                           depression saved my life\n",
              "24334  Mirtazapine  ...  depression i have been on mirtazapine for abou...\n",
              "43375   Fluoxetine  ...  panic disorde i have been on fluoxetine for ma...\n",
              "29380   Fluoxetine  ...  depression first weeks on the medicine and i f...\n",
              "51440  Mirtazapine  ...  insomnia i suffered a neurotoxic reaction to a...\n",
              "12629  Mirtazapine  ...  depression i was prescribed mirtazapine after ...\n",
              "\n",
              "[9 rows x 3 columns]"
            ]
          },
          "metadata": {},
          "execution_count": 33
        }
      ]
    },
    {
      "cell_type": "markdown",
      "metadata": {
        "id": "A0d3SLu8lgIP"
      },
      "source": [
        "## Evaluate"
      ]
    },
    {
      "cell_type": "markdown",
      "metadata": {
        "id": "NfsG6Fwxu7cp"
      },
      "source": [
        "Metrik yang dipilih adalah cosine distance, cosine similarity dan precision dengan menggunakan bantuan library sklearn. Cosine distance  hanya ditentukan untuk nilai positif nilai dengan rentang terdekat dari 0 adalah yang termirip dengan konten utama dan akan menjadi top-N pada sistem rekomendasi. pada sistem rekomendasi dengan rumus perhitungannya adalah:\n",
        "![](https://i2.wp.com/hendroprasetyo.com/wp-content/uploads/2020/04/image-9.png?resize=123%2C67&ssl=1)\n",
        "\n",
        "Untuk cosine simiarity penjelasannya adalah mengukur kesamaan antara dua vektor dan menentukan apakah kedua vektor tersebut menunjuk ke arah yang sama. Ia menghitung sudut cosinus antara dua vektor. Semakin kecil sudut cosinus, semakin besar nilai cosine similarity. Simpelnya adalah semakin besar nilainya ke 1 dari penentuan konten yang dipilih maka akan menjadi top-N pada sistem rekomendasi. Rumus dari cosine similarity adalah:\n",
        "![](https://dicoding-web-img.sgp1.cdn.digitaloceanspaces.com/original/academy/dos:784efd3d2ba47d47153b050526150ba920210910171725.jpeg)\n",
        "\n",
        "Precision pada sistem rekomendasi diambil dari top hasil yang relevan kemudian dibagi dengan jumlah item yang direkomendasikan.\n",
        "\n",
        "![](https://dicoding-web-img.sgp1.cdn.digitaloceanspaces.com/original/academy/dos:819311f78d87da1e0fd8660171fa58e620211012160253.png)\n",
        "\n",
        "di Python dapat menghitung kedua metrik ini dengan cepat dengan library sklearn dengan kode ``from sklearn.metrics.pairwise import cosine_distances, cosine_similarity``. Pada dataset rekomendasi obat - obatan metrik yang diperoleh dari rekomendasi index ke-0 dipilih top-3 rekomendasi dan akan dilihat kedekatan rekomendasi dari konten dengan cara memilih index top-3 lalu transform ke numpy array, setelah itu dimasukkan ke perhutngan cosine distances dan similarity."
      ]
    },
    {
      "cell_type": "markdown",
      "metadata": {
        "id": "db0WdK4KYqpB"
      },
      "source": [
        "## Evaluate CountVectorizer "
      ]
    },
    {
      "cell_type": "code",
      "metadata": {
        "id": "qQsBHu01p5UI"
      },
      "source": [
        "content = df.loc[0, \"metadata\"]\n",
        "content1 = df.loc[203, \"metadata\"]\n",
        "content2 = df.loc[49308\t, \"metadata\"]\n",
        "content3 = df.loc[7176, \"metadata\"]\n",
        "userChoice = bow.transform([content])\n",
        "rec1 = bow.transform([content1])\n",
        "rec2 = bow.transform([content2])\n",
        "rec3 = bow.transform([content3])"
      ],
      "execution_count": null,
      "outputs": []
    },
    {
      "cell_type": "code",
      "metadata": {
        "colab": {
          "base_uri": "https://localhost:8080/"
        },
        "id": "3nQMubj5lxC3",
        "outputId": "c59de1d2-af98-4461-97ec-879302f7cfc8"
      },
      "source": [
        "dist1 = cosine_distances(userChoice, rec1)\n",
        "dist2 = cosine_distances(userChoice, rec2)\n",
        "dist3 = cosine_distances(userChoice, rec3)\n",
        "\n",
        "print(\"Cosine distance terdekat yang menjadi rekomendasi dari konten adalah : \", dist1)\n",
        "print(\"Cosine distance terdekat yang menjadi rekomendasi dari konten adalah : \", dist2)\n",
        "print(\"Cosine distance terdekat yang menjadi rekomendasi dari konten adalah : \", dist3)"
      ],
      "execution_count": null,
      "outputs": [
        {
          "output_type": "stream",
          "name": "stdout",
          "text": [
            "Cosine distance terdekat yang menjadi rekomendasi dari konten adalah :  [[0.57437173]]\n",
            "Cosine distance terdekat yang menjadi rekomendasi dari konten adalah :  [[0.63253904]]\n",
            "Cosine distance terdekat yang menjadi rekomendasi dari konten adalah :  [[0.64435662]]\n"
          ]
        }
      ]
    },
    {
      "cell_type": "code",
      "metadata": {
        "colab": {
          "base_uri": "https://localhost:8080/"
        },
        "id": "JWnAxGRgoDwJ",
        "outputId": "dba819f3-3fa2-4e5d-e76b-fb220c58e056"
      },
      "source": [
        "dist1 = cosine_similarity(userChoice, rec1)\n",
        "dist2 = cosine_similarity(userChoice, rec2)\n",
        "dist3 = cosine_similarity(userChoice, rec3)\n",
        "\n",
        "print(\"Kemiripan kata antar baris yang menjadi rekomendasi dari konten adalah : \", dist1)\n",
        "print(\"Kemiripan kata antar baris yang menjadi rekomendasi dari konten adalah : \", dist2)\n",
        "print(\"Kemiripan kata antar baris yang menjadi rekomendasi dari konten adalah : \", dist3)"
      ],
      "execution_count": null,
      "outputs": [
        {
          "output_type": "stream",
          "name": "stdout",
          "text": [
            "Kemiripan kata antar baris yang menjadi rekomendasi dari konten adalah :  [[0.36746096]]\n",
            "Kemiripan kata antar baris yang menjadi rekomendasi dari konten adalah :  [[0.31118796]]\n",
            "Kemiripan kata antar baris yang menjadi rekomendasi dari konten adalah :  [[0.34050261]]\n"
          ]
        }
      ]
    },
    {
      "cell_type": "markdown",
      "metadata": {
        "id": "gU4KGaSFY0Wo"
      },
      "source": [
        "## Evaluate TfidfVectorizer "
      ]
    },
    {
      "cell_type": "code",
      "metadata": {
        "id": "KENvA3BvYxrt"
      },
      "source": [
        "content = df.loc[0, \"metadata\"]\n",
        "row1 = df.loc[49308, \"metadata\"]\n",
        "row2 = df.loc[17136\t, \"metadata\"]\n",
        "row3 = df.loc[31915, \"metadata\"]\n",
        "userChoice = bow_tfidf.transform([content])\n",
        "rec1 = bow.transform([row1])\n",
        "rec2 = bow.transform([row2])\n",
        "rec3 = bow.transform([row3])"
      ],
      "execution_count": null,
      "outputs": []
    },
    {
      "cell_type": "code",
      "metadata": {
        "colab": {
          "base_uri": "https://localhost:8080/"
        },
        "id": "dJ7Gv9x8Zui4",
        "outputId": "427fa428-7fde-4ebf-fbbb-851e2fb2552e"
      },
      "source": [
        "dist1 = cosine_distances(userChoice, rec1)\n",
        "dist2 = cosine_distances(userChoice, rec2)\n",
        "dist3 = cosine_distances(userChoice, rec3)\n",
        "\n",
        "print(\"Cosine distance terdekat yang menjadi rekomendasi dari konten adalah : \", dist1)\n",
        "print(\"Cosine distance terdekat yang menjadi rekomendasi dari konten adalah : \", dist2)\n",
        "print(\"Cosine distance terdekat yang menjadi rekomendasi dari konten adalah : \", dist3)"
      ],
      "execution_count": null,
      "outputs": [
        {
          "output_type": "stream",
          "name": "stdout",
          "text": [
            "Cosine distance terdekat yang menjadi rekomendasi dari konten adalah :  [[0.65108246]]\n",
            "Cosine distance terdekat yang menjadi rekomendasi dari konten adalah :  [[0.70736372]]\n",
            "Cosine distance terdekat yang menjadi rekomendasi dari konten adalah :  [[0.69698051]]\n"
          ]
        }
      ]
    },
    {
      "cell_type": "code",
      "metadata": {
        "colab": {
          "base_uri": "https://localhost:8080/"
        },
        "id": "A399aw74ZKfH",
        "outputId": "9b6a9658-8af1-4025-9f42-042c32208e8a"
      },
      "source": [
        "dist1 = cosine_similarity(userChoice, rec1)\n",
        "dist2 = cosine_similarity(userChoice, rec2)\n",
        "dist3 = cosine_similarity(userChoice, rec3)\n",
        "\n",
        "print(\"Kemiripan kata antar baris yang menjadi rekomendasi dari konten adalah : \", dist1)\n",
        "print(\"Kemiripan kata antar baris yang menjadi rekomendasi dari konten adalah : \", dist2)\n",
        "print(\"Kemiripan kata antar baris yang menjadi rekomendasi dari konten adalah : \", dist3)"
      ],
      "execution_count": null,
      "outputs": [
        {
          "output_type": "stream",
          "name": "stdout",
          "text": [
            "Kemiripan kata antar baris yang menjadi rekomendasi dari konten adalah :  [[0.34891754]]\n",
            "Kemiripan kata antar baris yang menjadi rekomendasi dari konten adalah :  [[0.29263628]]\n",
            "Kemiripan kata antar baris yang menjadi rekomendasi dari konten adalah :  [[0.30301949]]\n"
          ]
        }
      ]
    },
    {
      "cell_type": "markdown",
      "metadata": {
        "id": "kHGFFjerTrxd"
      },
      "source": [
        "## Evaluate Precision "
      ]
    },
    {
      "cell_type": "code",
      "metadata": {
        "colab": {
          "base_uri": "https://localhost:8080/",
          "height": 328
        },
        "id": "oUwqMO63T66x",
        "outputId": "04a97587-e634-43ae-97be-d81f4a5c5420"
      },
      "source": [
        "df.loc[rec_index]"
      ],
      "execution_count": null,
      "outputs": [
        {
          "output_type": "execute_result",
          "data": {
            "text/html": [
              "<div>\n",
              "<style scoped>\n",
              "    .dataframe tbody tr th:only-of-type {\n",
              "        vertical-align: middle;\n",
              "    }\n",
              "\n",
              "    .dataframe tbody tr th {\n",
              "        vertical-align: top;\n",
              "    }\n",
              "\n",
              "    .dataframe thead th {\n",
              "        text-align: right;\n",
              "    }\n",
              "</style>\n",
              "<table border=\"1\" class=\"dataframe\">\n",
              "  <thead>\n",
              "    <tr style=\"text-align: right;\">\n",
              "      <th></th>\n",
              "      <th>drugName</th>\n",
              "      <th>Prescribed_for</th>\n",
              "      <th>metadata</th>\n",
              "    </tr>\n",
              "  </thead>\n",
              "  <tbody>\n",
              "    <tr>\n",
              "      <th>49308</th>\n",
              "      <td>Mirtazapine</td>\n",
              "      <td>Depression</td>\n",
              "      <td>depression have been on mirtazapine for nearly...</td>\n",
              "    </tr>\n",
              "    <tr>\n",
              "      <th>17136</th>\n",
              "      <td>Mirtazapine</td>\n",
              "      <td>Depression</td>\n",
              "      <td>depression mirtazapine made me so very tired h...</td>\n",
              "    </tr>\n",
              "    <tr>\n",
              "      <th>31915</th>\n",
              "      <td>Mirtazapine</td>\n",
              "      <td>Anxiety</td>\n",
              "      <td>anxiety mirtazapine its amazing medicine my an...</td>\n",
              "    </tr>\n",
              "    <tr>\n",
              "      <th>203</th>\n",
              "      <td>Bupropion</td>\n",
              "      <td>Depression</td>\n",
              "      <td>depression saved my life</td>\n",
              "    </tr>\n",
              "    <tr>\n",
              "      <th>24334</th>\n",
              "      <td>Mirtazapine</td>\n",
              "      <td>Depression</td>\n",
              "      <td>depression i have been on mirtazapine for abou...</td>\n",
              "    </tr>\n",
              "    <tr>\n",
              "      <th>43375</th>\n",
              "      <td>Fluoxetine</td>\n",
              "      <td>Panic Disorde</td>\n",
              "      <td>panic disorde i have been on fluoxetine for ma...</td>\n",
              "    </tr>\n",
              "    <tr>\n",
              "      <th>29380</th>\n",
              "      <td>Fluoxetine</td>\n",
              "      <td>Depression</td>\n",
              "      <td>depression first weeks on the medicine and i f...</td>\n",
              "    </tr>\n",
              "    <tr>\n",
              "      <th>51440</th>\n",
              "      <td>Mirtazapine</td>\n",
              "      <td>Insomnia</td>\n",
              "      <td>insomnia i suffered a neurotoxic reaction to a...</td>\n",
              "    </tr>\n",
              "    <tr>\n",
              "      <th>12629</th>\n",
              "      <td>Mirtazapine</td>\n",
              "      <td>Depression</td>\n",
              "      <td>depression i was prescribed mirtazapine after ...</td>\n",
              "    </tr>\n",
              "  </tbody>\n",
              "</table>\n",
              "</div>"
            ],
            "text/plain": [
              "          drugName  ...                                           metadata\n",
              "49308  Mirtazapine  ...  depression have been on mirtazapine for nearly...\n",
              "17136  Mirtazapine  ...  depression mirtazapine made me so very tired h...\n",
              "31915  Mirtazapine  ...  anxiety mirtazapine its amazing medicine my an...\n",
              "203      Bupropion  ...                           depression saved my life\n",
              "24334  Mirtazapine  ...  depression i have been on mirtazapine for abou...\n",
              "43375   Fluoxetine  ...  panic disorde i have been on fluoxetine for ma...\n",
              "29380   Fluoxetine  ...  depression first weeks on the medicine and i f...\n",
              "51440  Mirtazapine  ...  insomnia i suffered a neurotoxic reaction to a...\n",
              "12629  Mirtazapine  ...  depression i was prescribed mirtazapine after ...\n",
              "\n",
              "[9 rows x 3 columns]"
            ]
          },
          "metadata": {},
          "execution_count": 33
        }
      ]
    },
    {
      "cell_type": "code",
      "metadata": {
        "colab": {
          "base_uri": "https://localhost:8080/"
        },
        "id": "e60rloRtTspT",
        "outputId": "f0097727-6cdc-4a64-caa4-50f6ee133efa"
      },
      "source": [
        "#Precision = of recommendation that are relevant/of item we recommend\n",
        "#6 diambil dari rekomendasi gejala yang didapat\n",
        "precision = (6/9) * 100\n",
        "print(\"Hasil precision dari rekomendasi sistem adalah \", precision,'%')"
      ],
      "execution_count": 8,
      "outputs": [
        {
          "output_type": "stream",
          "name": "stdout",
          "text": [
            "Hasil precision dari rekomendasi sistem adalah  66.66666666666666 %\n"
          ]
        }
      ]
    },
    {
      "cell_type": "code",
      "metadata": {
        "colab": {
          "base_uri": "https://localhost:8080/"
        },
        "id": "Eo3PrHqSZD09",
        "outputId": "1e153c55-3d51-49ae-f85f-67bf54f4ede0"
      },
      "source": [
        "#Jika diambil top-5\n",
        "precision = (4/5) * 100\n",
        "print(\"Hasil precision dari rekomendasi sistem adalah \", precision,'%')"
      ],
      "execution_count": 9,
      "outputs": [
        {
          "output_type": "stream",
          "name": "stdout",
          "text": [
            "Hasil precision dari rekomendasi sistem adalah  80.0 %\n"
          ]
        }
      ]
    }
  ]
}